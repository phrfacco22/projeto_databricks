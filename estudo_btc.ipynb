{
 "cells": [
  {
   "cell_type": "code",
   "execution_count": 1,
   "metadata": {
    "application/vnd.databricks.v1+cell": {
     "cellMetadata": {
      "byteLimit": 2048000,
      "implicitDf": true,
      "rowLimit": 10000
     },
     "inputWidgets": {},
     "nuid": "2a1cde7d-17aa-408f-8b77-d67c97f06646",
     "showTitle": false,
     "tableResultSettingsMap": {},
     "title": ""
    }
   },
   "outputs": [],
   "source": [
    "# import pandas as pd\n",
    "\n",
    "\n",
    "# df_spark = spark.read.table(\"transacoes_cliente\")               # Lendo as tabelas do BD.\n",
    "# df = df_spark.toPandas()\n",
    "\n",
    "# display(df)"
   ]
  },
  {
   "cell_type": "code",
   "execution_count": 2,
   "metadata": {},
   "outputs": [
    {
     "data": {
      "text/html": [
       "<div>\n",
       "<style scoped>\n",
       "    .dataframe tbody tr th:only-of-type {\n",
       "        vertical-align: middle;\n",
       "    }\n",
       "\n",
       "    .dataframe tbody tr th {\n",
       "        vertical-align: top;\n",
       "    }\n",
       "\n",
       "    .dataframe thead th {\n",
       "        text-align: right;\n",
       "    }\n",
       "</style>\n",
       "<table border=\"1\" class=\"dataframe\">\n",
       "  <thead>\n",
       "    <tr style=\"text-align: right;\">\n",
       "      <th></th>\n",
       "      <th>cliente</th>\n",
       "      <th>data_compra</th>\n",
       "      <th>preco_btc</th>\n",
       "      <th>quantidade_btc</th>\n",
       "    </tr>\n",
       "  </thead>\n",
       "  <tbody>\n",
       "    <tr>\n",
       "      <th>0</th>\n",
       "      <td>Sherry Decker</td>\n",
       "      <td>2025-01-26T00:00:00.000+0000</td>\n",
       "      <td>526338.91</td>\n",
       "      <td>0.75138</td>\n",
       "    </tr>\n",
       "    <tr>\n",
       "      <th>1</th>\n",
       "      <td>Gerald Hensley</td>\n",
       "      <td>2024-12-09T00:00:00.000+0000</td>\n",
       "      <td>663110.30</td>\n",
       "      <td>0.34418</td>\n",
       "    </tr>\n",
       "    <tr>\n",
       "      <th>2</th>\n",
       "      <td>Timothy Duncan</td>\n",
       "      <td>2024-09-26T00:00:00.000+0000</td>\n",
       "      <td>620115.11</td>\n",
       "      <td>0.46826</td>\n",
       "    </tr>\n",
       "    <tr>\n",
       "      <th>3</th>\n",
       "      <td>Matthew Foster</td>\n",
       "      <td>2024-09-19T00:00:00.000+0000</td>\n",
       "      <td>655694.97</td>\n",
       "      <td>1.02724</td>\n",
       "    </tr>\n",
       "    <tr>\n",
       "      <th>4</th>\n",
       "      <td>Jeffrey Chavez</td>\n",
       "      <td>2024-08-19T00:00:00.000+0000</td>\n",
       "      <td>642216.00</td>\n",
       "      <td>0.09623</td>\n",
       "    </tr>\n",
       "    <tr>\n",
       "      <th>...</th>\n",
       "      <td>...</td>\n",
       "      <td>...</td>\n",
       "      <td>...</td>\n",
       "      <td>...</td>\n",
       "    </tr>\n",
       "    <tr>\n",
       "      <th>95</th>\n",
       "      <td>Christopher Bass</td>\n",
       "      <td>2017-08-21T00:00:00.000+0000</td>\n",
       "      <td>125136.58</td>\n",
       "      <td>0.12109</td>\n",
       "    </tr>\n",
       "    <tr>\n",
       "      <th>96</th>\n",
       "      <td>Judy Baker</td>\n",
       "      <td>2017-08-18T00:00:00.000+0000</td>\n",
       "      <td>34401.96</td>\n",
       "      <td>0.04912</td>\n",
       "    </tr>\n",
       "    <tr>\n",
       "      <th>97</th>\n",
       "      <td>Connor West</td>\n",
       "      <td>2017-05-09T00:00:00.000+0000</td>\n",
       "      <td>112594.79</td>\n",
       "      <td>0.10722</td>\n",
       "    </tr>\n",
       "    <tr>\n",
       "      <th>98</th>\n",
       "      <td>Angela Lopez</td>\n",
       "      <td>2017-03-02T00:00:00.000+0000</td>\n",
       "      <td>126155.54</td>\n",
       "      <td>1.38962</td>\n",
       "    </tr>\n",
       "    <tr>\n",
       "      <th>99</th>\n",
       "      <td>Elizabeth Fowler</td>\n",
       "      <td>2017-02-17T00:00:00.000+0000</td>\n",
       "      <td>90355.14</td>\n",
       "      <td>0.17271</td>\n",
       "    </tr>\n",
       "  </tbody>\n",
       "</table>\n",
       "<p>100 rows × 4 columns</p>\n",
       "</div>"
      ],
      "text/plain": [
       "             cliente                   data_compra  preco_btc  quantidade_btc\n",
       "0      Sherry Decker  2025-01-26T00:00:00.000+0000  526338.91         0.75138\n",
       "1     Gerald Hensley  2024-12-09T00:00:00.000+0000  663110.30         0.34418\n",
       "2     Timothy Duncan  2024-09-26T00:00:00.000+0000  620115.11         0.46826\n",
       "3     Matthew Foster  2024-09-19T00:00:00.000+0000  655694.97         1.02724\n",
       "4     Jeffrey Chavez  2024-08-19T00:00:00.000+0000  642216.00         0.09623\n",
       "..               ...                           ...        ...             ...\n",
       "95  Christopher Bass  2017-08-21T00:00:00.000+0000  125136.58         0.12109\n",
       "96        Judy Baker  2017-08-18T00:00:00.000+0000   34401.96         0.04912\n",
       "97       Connor West  2017-05-09T00:00:00.000+0000  112594.79         0.10722\n",
       "98      Angela Lopez  2017-03-02T00:00:00.000+0000  126155.54         1.38962\n",
       "99  Elizabeth Fowler  2017-02-17T00:00:00.000+0000   90355.14         0.17271\n",
       "\n",
       "[100 rows x 4 columns]"
      ]
     },
     "metadata": {},
     "output_type": "display_data"
    }
   ],
   "source": [
    "import pandas as pd\n",
    "\n",
    "\n",
    "df = pd.read_csv(\"transacoes_cliente.csv\")               # Lendo as tabelas do BD.\n",
    "\n",
    "display(df)"
   ]
  },
  {
   "cell_type": "code",
   "execution_count": 3,
   "metadata": {
    "application/vnd.databricks.v1+cell": {
     "cellMetadata": {
      "byteLimit": 2048000,
      "rowLimit": 10000
     },
     "inputWidgets": {},
     "nuid": "061cadb2-d7a4-410f-a6e2-21d21a6f3e67",
     "showTitle": false,
     "tableResultSettingsMap": {},
     "title": ""
    },
    "jupyter": {
     "outputs_hidden": true
    }
   },
   "outputs": [],
   "source": [
    "# !pip install psycopg2-binary"
   ]
  },
  {
   "cell_type": "code",
   "execution_count": 4,
   "metadata": {
    "application/vnd.databricks.v1+cell": {
     "cellMetadata": {
      "byteLimit": 2048000,
      "rowLimit": 10000
     },
     "inputWidgets": {},
     "nuid": "049b2c05-6477-411b-9bcc-078ea77eaf72",
     "showTitle": false,
     "tableResultSettingsMap": {},
     "title": ""
    }
   },
   "outputs": [],
   "source": [
    "# import pandas as pd \n",
    "# import psycopg2\n",
    "\n",
    "# db_conn = psycopg2.connect(\n",
    "#     dbname=\"databricks_pratice\",\n",
    "#     user=\"databricks_pratice_user\",\n",
    "#     password=\"2PBl6q9zYd8OxFl6XV2pXJvejGf9uaaO\",\n",
    "#     host=\"dpg-cusjnjvnoe9s738vrs9g-a.oregon-postgres.render.com\",\n",
    "#     port=\"5432\"\n",
    "# )\n",
    "\n",
    "# query = \"\"\"\n",
    "# -- SELECT t.cliente, t.quantidade_btc \n",
    "# -- FROM transacoes_cliente as t\n",
    "# \"\"\"\n",
    "\n",
    "# df = pd.read_sql(query, db_conn)\n",
    "\n",
    "# conn.close()\n",
    "\n",
    "# display(df)    Conexão com um database postgres externo."
   ]
  },
  {
   "cell_type": "markdown",
   "metadata": {
    "application/vnd.databricks.v1+cell": {
     "cellMetadata": {
      "byteLimit": 2048000,
      "rowLimit": 10000
     },
     "inputWidgets": {},
     "nuid": "516fc58a-5711-43e4-b610-1bd35195cd10",
     "showTitle": false,
     "tableResultSettingsMap": {},
     "title": ""
    }
   },
   "source": [
    "##Adição de uma nova coluna ao DataFrame"
   ]
  },
  {
   "cell_type": "code",
   "execution_count": 5,
   "metadata": {
    "application/vnd.databricks.v1+cell": {
     "cellMetadata": {
      "byteLimit": 2048000,
      "rowLimit": 10000
     },
     "inputWidgets": {},
     "nuid": "49883669-9fc7-4c37-8fd4-9e4a1012dd7a",
     "showTitle": false,
     "tableResultSettingsMap": {},
     "title": ""
    }
   },
   "outputs": [
    {
     "data": {
      "text/html": [
       "<div>\n",
       "<style scoped>\n",
       "    .dataframe tbody tr th:only-of-type {\n",
       "        vertical-align: middle;\n",
       "    }\n",
       "\n",
       "    .dataframe tbody tr th {\n",
       "        vertical-align: top;\n",
       "    }\n",
       "\n",
       "    .dataframe thead th {\n",
       "        text-align: right;\n",
       "    }\n",
       "</style>\n",
       "<table border=\"1\" class=\"dataframe\">\n",
       "  <thead>\n",
       "    <tr style=\"text-align: right;\">\n",
       "      <th></th>\n",
       "      <th>cliente</th>\n",
       "      <th>data_compra</th>\n",
       "      <th>preco_btc</th>\n",
       "      <th>quantidade_btc</th>\n",
       "      <th>total_de_compras</th>\n",
       "    </tr>\n",
       "  </thead>\n",
       "  <tbody>\n",
       "    <tr>\n",
       "      <th>0</th>\n",
       "      <td>Sherry Decker</td>\n",
       "      <td>2025-01-26T00:00:00.000+0000</td>\n",
       "      <td>526338.91</td>\n",
       "      <td>0.75138</td>\n",
       "      <td>395480.530196</td>\n",
       "    </tr>\n",
       "    <tr>\n",
       "      <th>1</th>\n",
       "      <td>Gerald Hensley</td>\n",
       "      <td>2024-12-09T00:00:00.000+0000</td>\n",
       "      <td>663110.30</td>\n",
       "      <td>0.34418</td>\n",
       "      <td>228229.303054</td>\n",
       "    </tr>\n",
       "    <tr>\n",
       "      <th>2</th>\n",
       "      <td>Timothy Duncan</td>\n",
       "      <td>2024-09-26T00:00:00.000+0000</td>\n",
       "      <td>620115.11</td>\n",
       "      <td>0.46826</td>\n",
       "      <td>290375.101409</td>\n",
       "    </tr>\n",
       "    <tr>\n",
       "      <th>3</th>\n",
       "      <td>Matthew Foster</td>\n",
       "      <td>2024-09-19T00:00:00.000+0000</td>\n",
       "      <td>655694.97</td>\n",
       "      <td>1.02724</td>\n",
       "      <td>673556.100983</td>\n",
       "    </tr>\n",
       "    <tr>\n",
       "      <th>4</th>\n",
       "      <td>Jeffrey Chavez</td>\n",
       "      <td>2024-08-19T00:00:00.000+0000</td>\n",
       "      <td>642216.00</td>\n",
       "      <td>0.09623</td>\n",
       "      <td>61800.445680</td>\n",
       "    </tr>\n",
       "    <tr>\n",
       "      <th>...</th>\n",
       "      <td>...</td>\n",
       "      <td>...</td>\n",
       "      <td>...</td>\n",
       "      <td>...</td>\n",
       "      <td>...</td>\n",
       "    </tr>\n",
       "    <tr>\n",
       "      <th>95</th>\n",
       "      <td>Christopher Bass</td>\n",
       "      <td>2017-08-21T00:00:00.000+0000</td>\n",
       "      <td>125136.58</td>\n",
       "      <td>0.12109</td>\n",
       "      <td>15152.788472</td>\n",
       "    </tr>\n",
       "    <tr>\n",
       "      <th>96</th>\n",
       "      <td>Judy Baker</td>\n",
       "      <td>2017-08-18T00:00:00.000+0000</td>\n",
       "      <td>34401.96</td>\n",
       "      <td>0.04912</td>\n",
       "      <td>1689.824275</td>\n",
       "    </tr>\n",
       "    <tr>\n",
       "      <th>97</th>\n",
       "      <td>Connor West</td>\n",
       "      <td>2017-05-09T00:00:00.000+0000</td>\n",
       "      <td>112594.79</td>\n",
       "      <td>0.10722</td>\n",
       "      <td>12072.413384</td>\n",
       "    </tr>\n",
       "    <tr>\n",
       "      <th>98</th>\n",
       "      <td>Angela Lopez</td>\n",
       "      <td>2017-03-02T00:00:00.000+0000</td>\n",
       "      <td>126155.54</td>\n",
       "      <td>1.38962</td>\n",
       "      <td>175308.261495</td>\n",
       "    </tr>\n",
       "    <tr>\n",
       "      <th>99</th>\n",
       "      <td>Elizabeth Fowler</td>\n",
       "      <td>2017-02-17T00:00:00.000+0000</td>\n",
       "      <td>90355.14</td>\n",
       "      <td>0.17271</td>\n",
       "      <td>15605.236229</td>\n",
       "    </tr>\n",
       "  </tbody>\n",
       "</table>\n",
       "<p>100 rows × 5 columns</p>\n",
       "</div>"
      ],
      "text/plain": [
       "             cliente                   data_compra  preco_btc  quantidade_btc  \\\n",
       "0      Sherry Decker  2025-01-26T00:00:00.000+0000  526338.91         0.75138   \n",
       "1     Gerald Hensley  2024-12-09T00:00:00.000+0000  663110.30         0.34418   \n",
       "2     Timothy Duncan  2024-09-26T00:00:00.000+0000  620115.11         0.46826   \n",
       "3     Matthew Foster  2024-09-19T00:00:00.000+0000  655694.97         1.02724   \n",
       "4     Jeffrey Chavez  2024-08-19T00:00:00.000+0000  642216.00         0.09623   \n",
       "..               ...                           ...        ...             ...   \n",
       "95  Christopher Bass  2017-08-21T00:00:00.000+0000  125136.58         0.12109   \n",
       "96        Judy Baker  2017-08-18T00:00:00.000+0000   34401.96         0.04912   \n",
       "97       Connor West  2017-05-09T00:00:00.000+0000  112594.79         0.10722   \n",
       "98      Angela Lopez  2017-03-02T00:00:00.000+0000  126155.54         1.38962   \n",
       "99  Elizabeth Fowler  2017-02-17T00:00:00.000+0000   90355.14         0.17271   \n",
       "\n",
       "    total_de_compras  \n",
       "0      395480.530196  \n",
       "1      228229.303054  \n",
       "2      290375.101409  \n",
       "3      673556.100983  \n",
       "4       61800.445680  \n",
       "..               ...  \n",
       "95      15152.788472  \n",
       "96       1689.824275  \n",
       "97      12072.413384  \n",
       "98     175308.261495  \n",
       "99      15605.236229  \n",
       "\n",
       "[100 rows x 5 columns]"
      ]
     },
     "metadata": {},
     "output_type": "display_data"
    }
   ],
   "source": [
    "df[\"total_de_compras\"] = df[\"preco_btc\"] * df[\"quantidade_btc\"]                 # Criação de nova coluna com nome 'total de compras'.\n",
    "\n",
    "display(df)"
   ]
  },
  {
   "cell_type": "markdown",
   "metadata": {
    "application/vnd.databricks.v1+cell": {
     "cellMetadata": {
      "byteLimit": 2048000,
      "rowLimit": 10000
     },
     "inputWidgets": {},
     "nuid": "778796e1-20e4-43f3-9696-7fa916e6eb28",
     "showTitle": false,
     "tableResultSettingsMap": {},
     "title": ""
    }
   },
   "source": [
    "### Filtrando clientes que possuem mais de 1 btc"
   ]
  },
  {
   "cell_type": "code",
   "execution_count": 6,
   "metadata": {
    "application/vnd.databricks.v1+cell": {
     "cellMetadata": {
      "byteLimit": 2048000,
      "rowLimit": 10000
     },
     "inputWidgets": {},
     "nuid": "8d37c125-1741-49ae-84b5-06d649b65f86",
     "showTitle": false,
     "tableResultSettingsMap": {},
     "title": ""
    }
   },
   "outputs": [
    {
     "data": {
      "text/html": [
       "<div>\n",
       "<style scoped>\n",
       "    .dataframe tbody tr th:only-of-type {\n",
       "        vertical-align: middle;\n",
       "    }\n",
       "\n",
       "    .dataframe tbody tr th {\n",
       "        vertical-align: top;\n",
       "    }\n",
       "\n",
       "    .dataframe thead th {\n",
       "        text-align: right;\n",
       "    }\n",
       "</style>\n",
       "<table border=\"1\" class=\"dataframe\">\n",
       "  <thead>\n",
       "    <tr style=\"text-align: right;\">\n",
       "      <th></th>\n",
       "      <th>cliente</th>\n",
       "      <th>data_compra</th>\n",
       "      <th>preco_btc</th>\n",
       "      <th>quantidade_btc</th>\n",
       "      <th>total_de_compras</th>\n",
       "    </tr>\n",
       "  </thead>\n",
       "  <tbody>\n",
       "    <tr>\n",
       "      <th>3</th>\n",
       "      <td>Matthew Foster</td>\n",
       "      <td>2024-09-19T00:00:00.000+0000</td>\n",
       "      <td>655694.97</td>\n",
       "      <td>1.02724</td>\n",
       "      <td>673556.100983</td>\n",
       "    </tr>\n",
       "    <tr>\n",
       "      <th>8</th>\n",
       "      <td>Margaret Hawkins DDS</td>\n",
       "      <td>2024-07-08T00:00:00.000+0000</td>\n",
       "      <td>626697.78</td>\n",
       "      <td>1.40505</td>\n",
       "      <td>880541.715789</td>\n",
       "    </tr>\n",
       "    <tr>\n",
       "      <th>10</th>\n",
       "      <td>Zachary Hicks</td>\n",
       "      <td>2024-05-08T00:00:00.000+0000</td>\n",
       "      <td>649923.13</td>\n",
       "      <td>1.32714</td>\n",
       "      <td>862538.982748</td>\n",
       "    </tr>\n",
       "    <tr>\n",
       "      <th>13</th>\n",
       "      <td>Allison Hill</td>\n",
       "      <td>2024-03-04T00:00:00.000+0000</td>\n",
       "      <td>611133.11</td>\n",
       "      <td>1.11258</td>\n",
       "      <td>679934.475524</td>\n",
       "    </tr>\n",
       "    <tr>\n",
       "      <th>14</th>\n",
       "      <td>Dylan Miller</td>\n",
       "      <td>2024-01-19T00:00:00.000+0000</td>\n",
       "      <td>661851.98</td>\n",
       "      <td>1.29270</td>\n",
       "      <td>855576.054546</td>\n",
       "    </tr>\n",
       "    <tr>\n",
       "      <th>26</th>\n",
       "      <td>Denise Jacobs</td>\n",
       "      <td>2023-05-05T00:00:00.000+0000</td>\n",
       "      <td>347290.47</td>\n",
       "      <td>1.40212</td>\n",
       "      <td>486942.913796</td>\n",
       "    </tr>\n",
       "    <tr>\n",
       "      <th>31</th>\n",
       "      <td>Jessica Callahan</td>\n",
       "      <td>2023-01-18T00:00:00.000+0000</td>\n",
       "      <td>222339.79</td>\n",
       "      <td>1.40334</td>\n",
       "      <td>312018.320899</td>\n",
       "    </tr>\n",
       "    <tr>\n",
       "      <th>32</th>\n",
       "      <td>Brittany Farmer</td>\n",
       "      <td>2023-01-09T00:00:00.000+0000</td>\n",
       "      <td>420280.90</td>\n",
       "      <td>1.15313</td>\n",
       "      <td>484638.514217</td>\n",
       "    </tr>\n",
       "    <tr>\n",
       "      <th>38</th>\n",
       "      <td>Nathan Maldonado</td>\n",
       "      <td>2022-09-19T00:00:00.000+0000</td>\n",
       "      <td>277925.07</td>\n",
       "      <td>1.13392</td>\n",
       "      <td>315144.795374</td>\n",
       "    </tr>\n",
       "    <tr>\n",
       "      <th>40</th>\n",
       "      <td>Joshua Blair</td>\n",
       "      <td>2022-06-25T00:00:00.000+0000</td>\n",
       "      <td>126232.56</td>\n",
       "      <td>1.39372</td>\n",
       "      <td>175932.843523</td>\n",
       "    </tr>\n",
       "    <tr>\n",
       "      <th>41</th>\n",
       "      <td>Danny Morgan</td>\n",
       "      <td>2022-06-14T00:00:00.000+0000</td>\n",
       "      <td>381127.44</td>\n",
       "      <td>1.46700</td>\n",
       "      <td>559113.954480</td>\n",
       "    </tr>\n",
       "    <tr>\n",
       "      <th>44</th>\n",
       "      <td>Lauren Daniels</td>\n",
       "      <td>2022-03-10T00:00:00.000+0000</td>\n",
       "      <td>199938.06</td>\n",
       "      <td>1.38498</td>\n",
       "      <td>276910.214339</td>\n",
       "    </tr>\n",
       "    <tr>\n",
       "      <th>45</th>\n",
       "      <td>Lisa Hensley</td>\n",
       "      <td>2022-02-25T00:00:00.000+0000</td>\n",
       "      <td>291592.99</td>\n",
       "      <td>1.45970</td>\n",
       "      <td>425638.287503</td>\n",
       "    </tr>\n",
       "    <tr>\n",
       "      <th>46</th>\n",
       "      <td>Fred Smith</td>\n",
       "      <td>2022-02-02T00:00:00.000+0000</td>\n",
       "      <td>121038.50</td>\n",
       "      <td>1.08342</td>\n",
       "      <td>131135.531670</td>\n",
       "    </tr>\n",
       "    <tr>\n",
       "      <th>48</th>\n",
       "      <td>Amy Silva</td>\n",
       "      <td>2021-12-21T00:00:00.000+0000</td>\n",
       "      <td>577134.24</td>\n",
       "      <td>1.28409</td>\n",
       "      <td>741092.306242</td>\n",
       "    </tr>\n",
       "    <tr>\n",
       "      <th>49</th>\n",
       "      <td>James Brown</td>\n",
       "      <td>2021-08-11T00:00:00.000+0000</td>\n",
       "      <td>358895.79</td>\n",
       "      <td>1.09388</td>\n",
       "      <td>392588.926765</td>\n",
       "    </tr>\n",
       "    <tr>\n",
       "      <th>52</th>\n",
       "      <td>Tommy Walter</td>\n",
       "      <td>2021-04-04T00:00:00.000+0000</td>\n",
       "      <td>232766.61</td>\n",
       "      <td>1.38816</td>\n",
       "      <td>323117.297338</td>\n",
       "    </tr>\n",
       "    <tr>\n",
       "      <th>55</th>\n",
       "      <td>Tricia Valencia</td>\n",
       "      <td>2021-01-22T00:00:00.000+0000</td>\n",
       "      <td>200365.29</td>\n",
       "      <td>1.49631</td>\n",
       "      <td>299808.587080</td>\n",
       "    </tr>\n",
       "    <tr>\n",
       "      <th>56</th>\n",
       "      <td>Stephen Mckee</td>\n",
       "      <td>2020-11-30T00:00:00.000+0000</td>\n",
       "      <td>111660.49</td>\n",
       "      <td>1.31903</td>\n",
       "      <td>147283.536125</td>\n",
       "    </tr>\n",
       "    <tr>\n",
       "      <th>57</th>\n",
       "      <td>Jamie Arnold</td>\n",
       "      <td>2020-11-09T00:00:00.000+0000</td>\n",
       "      <td>92260.82</td>\n",
       "      <td>1.21089</td>\n",
       "      <td>111717.704330</td>\n",
       "    </tr>\n",
       "    <tr>\n",
       "      <th>62</th>\n",
       "      <td>Anna Henderson</td>\n",
       "      <td>2020-05-13T00:00:00.000+0000</td>\n",
       "      <td>82005.72</td>\n",
       "      <td>1.39360</td>\n",
       "      <td>114283.171392</td>\n",
       "    </tr>\n",
       "    <tr>\n",
       "      <th>63</th>\n",
       "      <td>Mike Allen</td>\n",
       "      <td>2020-03-14T00:00:00.000+0000</td>\n",
       "      <td>79610.52</td>\n",
       "      <td>1.43602</td>\n",
       "      <td>114322.298930</td>\n",
       "    </tr>\n",
       "    <tr>\n",
       "      <th>65</th>\n",
       "      <td>John Whitehead</td>\n",
       "      <td>2019-12-24T00:00:00.000+0000</td>\n",
       "      <td>47705.01</td>\n",
       "      <td>1.00786</td>\n",
       "      <td>48079.971379</td>\n",
       "    </tr>\n",
       "    <tr>\n",
       "      <th>66</th>\n",
       "      <td>Kelly Donovan</td>\n",
       "      <td>2019-12-23T00:00:00.000+0000</td>\n",
       "      <td>84856.27</td>\n",
       "      <td>1.17791</td>\n",
       "      <td>99953.048996</td>\n",
       "    </tr>\n",
       "    <tr>\n",
       "      <th>67</th>\n",
       "      <td>Cassandra Gaines</td>\n",
       "      <td>2019-10-27T00:00:00.000+0000</td>\n",
       "      <td>87975.49</td>\n",
       "      <td>1.29131</td>\n",
       "      <td>113603.629992</td>\n",
       "    </tr>\n",
       "    <tr>\n",
       "      <th>69</th>\n",
       "      <td>Noah Rhodes</td>\n",
       "      <td>2019-10-01T00:00:00.000+0000</td>\n",
       "      <td>35624.75</td>\n",
       "      <td>1.10497</td>\n",
       "      <td>39364.280007</td>\n",
       "    </tr>\n",
       "    <tr>\n",
       "      <th>72</th>\n",
       "      <td>Aimee Montoya</td>\n",
       "      <td>2019-08-22T00:00:00.000+0000</td>\n",
       "      <td>48264.29</td>\n",
       "      <td>1.41245</td>\n",
       "      <td>68170.896411</td>\n",
       "    </tr>\n",
       "    <tr>\n",
       "      <th>75</th>\n",
       "      <td>Steve Sanchez</td>\n",
       "      <td>2019-05-26T00:00:00.000+0000</td>\n",
       "      <td>80525.53</td>\n",
       "      <td>1.35376</td>\n",
       "      <td>109012.241493</td>\n",
       "    </tr>\n",
       "    <tr>\n",
       "      <th>77</th>\n",
       "      <td>Michael Lewis</td>\n",
       "      <td>2019-05-18T00:00:00.000+0000</td>\n",
       "      <td>85023.94</td>\n",
       "      <td>1.13314</td>\n",
       "      <td>96344.027372</td>\n",
       "    </tr>\n",
       "    <tr>\n",
       "      <th>79</th>\n",
       "      <td>Paul Jones</td>\n",
       "      <td>2019-02-17T00:00:00.000+0000</td>\n",
       "      <td>40769.55</td>\n",
       "      <td>1.45310</td>\n",
       "      <td>59242.233105</td>\n",
       "    </tr>\n",
       "    <tr>\n",
       "      <th>82</th>\n",
       "      <td>Lisa Barnes</td>\n",
       "      <td>2018-11-06T00:00:00.000+0000</td>\n",
       "      <td>56591.69</td>\n",
       "      <td>1.47798</td>\n",
       "      <td>83641.385986</td>\n",
       "    </tr>\n",
       "    <tr>\n",
       "      <th>83</th>\n",
       "      <td>John Pierce</td>\n",
       "      <td>2018-10-24T00:00:00.000+0000</td>\n",
       "      <td>70386.60</td>\n",
       "      <td>1.16816</td>\n",
       "      <td>82222.810656</td>\n",
       "    </tr>\n",
       "    <tr>\n",
       "      <th>85</th>\n",
       "      <td>Ryan Munoz</td>\n",
       "      <td>2018-09-29T00:00:00.000+0000</td>\n",
       "      <td>42516.98</td>\n",
       "      <td>1.14548</td>\n",
       "      <td>48702.350250</td>\n",
       "    </tr>\n",
       "    <tr>\n",
       "      <th>89</th>\n",
       "      <td>Sarah Moore</td>\n",
       "      <td>2018-02-06T00:00:00.000+0000</td>\n",
       "      <td>28350.60</td>\n",
       "      <td>1.49892</td>\n",
       "      <td>42495.281352</td>\n",
       "    </tr>\n",
       "    <tr>\n",
       "      <th>91</th>\n",
       "      <td>Derek Zuniga</td>\n",
       "      <td>2017-11-23T00:00:00.000+0000</td>\n",
       "      <td>112059.40</td>\n",
       "      <td>1.29986</td>\n",
       "      <td>145661.531684</td>\n",
       "    </tr>\n",
       "    <tr>\n",
       "      <th>98</th>\n",
       "      <td>Angela Lopez</td>\n",
       "      <td>2017-03-02T00:00:00.000+0000</td>\n",
       "      <td>126155.54</td>\n",
       "      <td>1.38962</td>\n",
       "      <td>175308.261495</td>\n",
       "    </tr>\n",
       "  </tbody>\n",
       "</table>\n",
       "</div>"
      ],
      "text/plain": [
       "                 cliente                   data_compra  preco_btc  \\\n",
       "3         Matthew Foster  2024-09-19T00:00:00.000+0000  655694.97   \n",
       "8   Margaret Hawkins DDS  2024-07-08T00:00:00.000+0000  626697.78   \n",
       "10         Zachary Hicks  2024-05-08T00:00:00.000+0000  649923.13   \n",
       "13          Allison Hill  2024-03-04T00:00:00.000+0000  611133.11   \n",
       "14          Dylan Miller  2024-01-19T00:00:00.000+0000  661851.98   \n",
       "26         Denise Jacobs  2023-05-05T00:00:00.000+0000  347290.47   \n",
       "31      Jessica Callahan  2023-01-18T00:00:00.000+0000  222339.79   \n",
       "32       Brittany Farmer  2023-01-09T00:00:00.000+0000  420280.90   \n",
       "38      Nathan Maldonado  2022-09-19T00:00:00.000+0000  277925.07   \n",
       "40          Joshua Blair  2022-06-25T00:00:00.000+0000  126232.56   \n",
       "41          Danny Morgan  2022-06-14T00:00:00.000+0000  381127.44   \n",
       "44        Lauren Daniels  2022-03-10T00:00:00.000+0000  199938.06   \n",
       "45          Lisa Hensley  2022-02-25T00:00:00.000+0000  291592.99   \n",
       "46            Fred Smith  2022-02-02T00:00:00.000+0000  121038.50   \n",
       "48             Amy Silva  2021-12-21T00:00:00.000+0000  577134.24   \n",
       "49           James Brown  2021-08-11T00:00:00.000+0000  358895.79   \n",
       "52          Tommy Walter  2021-04-04T00:00:00.000+0000  232766.61   \n",
       "55       Tricia Valencia  2021-01-22T00:00:00.000+0000  200365.29   \n",
       "56         Stephen Mckee  2020-11-30T00:00:00.000+0000  111660.49   \n",
       "57          Jamie Arnold  2020-11-09T00:00:00.000+0000   92260.82   \n",
       "62        Anna Henderson  2020-05-13T00:00:00.000+0000   82005.72   \n",
       "63            Mike Allen  2020-03-14T00:00:00.000+0000   79610.52   \n",
       "65        John Whitehead  2019-12-24T00:00:00.000+0000   47705.01   \n",
       "66         Kelly Donovan  2019-12-23T00:00:00.000+0000   84856.27   \n",
       "67      Cassandra Gaines  2019-10-27T00:00:00.000+0000   87975.49   \n",
       "69           Noah Rhodes  2019-10-01T00:00:00.000+0000   35624.75   \n",
       "72         Aimee Montoya  2019-08-22T00:00:00.000+0000   48264.29   \n",
       "75         Steve Sanchez  2019-05-26T00:00:00.000+0000   80525.53   \n",
       "77         Michael Lewis  2019-05-18T00:00:00.000+0000   85023.94   \n",
       "79            Paul Jones  2019-02-17T00:00:00.000+0000   40769.55   \n",
       "82           Lisa Barnes  2018-11-06T00:00:00.000+0000   56591.69   \n",
       "83           John Pierce  2018-10-24T00:00:00.000+0000   70386.60   \n",
       "85            Ryan Munoz  2018-09-29T00:00:00.000+0000   42516.98   \n",
       "89           Sarah Moore  2018-02-06T00:00:00.000+0000   28350.60   \n",
       "91          Derek Zuniga  2017-11-23T00:00:00.000+0000  112059.40   \n",
       "98          Angela Lopez  2017-03-02T00:00:00.000+0000  126155.54   \n",
       "\n",
       "    quantidade_btc  total_de_compras  \n",
       "3          1.02724     673556.100983  \n",
       "8          1.40505     880541.715789  \n",
       "10         1.32714     862538.982748  \n",
       "13         1.11258     679934.475524  \n",
       "14         1.29270     855576.054546  \n",
       "26         1.40212     486942.913796  \n",
       "31         1.40334     312018.320899  \n",
       "32         1.15313     484638.514217  \n",
       "38         1.13392     315144.795374  \n",
       "40         1.39372     175932.843523  \n",
       "41         1.46700     559113.954480  \n",
       "44         1.38498     276910.214339  \n",
       "45         1.45970     425638.287503  \n",
       "46         1.08342     131135.531670  \n",
       "48         1.28409     741092.306242  \n",
       "49         1.09388     392588.926765  \n",
       "52         1.38816     323117.297338  \n",
       "55         1.49631     299808.587080  \n",
       "56         1.31903     147283.536125  \n",
       "57         1.21089     111717.704330  \n",
       "62         1.39360     114283.171392  \n",
       "63         1.43602     114322.298930  \n",
       "65         1.00786      48079.971379  \n",
       "66         1.17791      99953.048996  \n",
       "67         1.29131     113603.629992  \n",
       "69         1.10497      39364.280007  \n",
       "72         1.41245      68170.896411  \n",
       "75         1.35376     109012.241493  \n",
       "77         1.13314      96344.027372  \n",
       "79         1.45310      59242.233105  \n",
       "82         1.47798      83641.385986  \n",
       "83         1.16816      82222.810656  \n",
       "85         1.14548      48702.350250  \n",
       "89         1.49892      42495.281352  \n",
       "91         1.29986     145661.531684  \n",
       "98         1.38962     175308.261495  "
      ]
     },
     "metadata": {},
     "output_type": "display_data"
    }
   ],
   "source": [
    "df_filtered = df[df[\"quantidade_btc\"] > 1]\n",
    "display(df_filtered)"
   ]
  },
  {
   "cell_type": "code",
   "execution_count": 7,
   "metadata": {
    "application/vnd.databricks.v1+cell": {
     "cellMetadata": {
      "byteLimit": 2048000,
      "rowLimit": 10000
     },
     "inputWidgets": {},
     "nuid": "c542844b-4e72-48c1-a0c1-792f161a63ef",
     "showTitle": false,
     "tableResultSettingsMap": {},
     "title": ""
    }
   },
   "outputs": [
    {
     "name": "stdout",
     "output_type": "stream",
     "text": [
      "<class 'pandas.core.frame.DataFrame'>\n",
      "Index: 36 entries, 3 to 98\n",
      "Data columns (total 5 columns):\n",
      " #   Column            Non-Null Count  Dtype  \n",
      "---  ------            --------------  -----  \n",
      " 0   cliente           36 non-null     object \n",
      " 1   data_compra       36 non-null     object \n",
      " 2   preco_btc         36 non-null     float64\n",
      " 3   quantidade_btc    36 non-null     float64\n",
      " 4   total_de_compras  36 non-null     float64\n",
      "dtypes: float64(3), object(2)\n",
      "memory usage: 1.7+ KB\n"
     ]
    }
   ],
   "source": [
    "df_filtered.info()"
   ]
  },
  {
   "cell_type": "code",
   "execution_count": 8,
   "metadata": {
    "application/vnd.databricks.v1+cell": {
     "cellMetadata": {
      "byteLimit": 2048000,
      "rowLimit": 10000
     },
     "inputWidgets": {},
     "nuid": "e0539bd8-5074-4766-89f8-0cd4ed02b98b",
     "showTitle": false,
     "tableResultSettingsMap": {},
     "title": ""
    }
   },
   "outputs": [
    {
     "data": {
      "text/html": [
       "<div>\n",
       "<style scoped>\n",
       "    .dataframe tbody tr th:only-of-type {\n",
       "        vertical-align: middle;\n",
       "    }\n",
       "\n",
       "    .dataframe tbody tr th {\n",
       "        vertical-align: top;\n",
       "    }\n",
       "\n",
       "    .dataframe thead th {\n",
       "        text-align: right;\n",
       "    }\n",
       "</style>\n",
       "<table border=\"1\" class=\"dataframe\">\n",
       "  <thead>\n",
       "    <tr style=\"text-align: right;\">\n",
       "      <th></th>\n",
       "      <th>cliente</th>\n",
       "      <th>data_compra</th>\n",
       "      <th>preco_btc</th>\n",
       "      <th>quantidade_btc</th>\n",
       "      <th>total_de_compras</th>\n",
       "    </tr>\n",
       "  </thead>\n",
       "  <tbody>\n",
       "    <tr>\n",
       "      <th>8</th>\n",
       "      <td>Margaret Hawkins DDS</td>\n",
       "      <td>2024-07-08T00:00:00.000+0000</td>\n",
       "      <td>626697.78</td>\n",
       "      <td>1.40505</td>\n",
       "      <td>880541.715789</td>\n",
       "    </tr>\n",
       "    <tr>\n",
       "      <th>10</th>\n",
       "      <td>Zachary Hicks</td>\n",
       "      <td>2024-05-08T00:00:00.000+0000</td>\n",
       "      <td>649923.13</td>\n",
       "      <td>1.32714</td>\n",
       "      <td>862538.982748</td>\n",
       "    </tr>\n",
       "    <tr>\n",
       "      <th>14</th>\n",
       "      <td>Dylan Miller</td>\n",
       "      <td>2024-01-19T00:00:00.000+0000</td>\n",
       "      <td>661851.98</td>\n",
       "      <td>1.29270</td>\n",
       "      <td>855576.054546</td>\n",
       "    </tr>\n",
       "    <tr>\n",
       "      <th>48</th>\n",
       "      <td>Amy Silva</td>\n",
       "      <td>2021-12-21T00:00:00.000+0000</td>\n",
       "      <td>577134.24</td>\n",
       "      <td>1.28409</td>\n",
       "      <td>741092.306242</td>\n",
       "    </tr>\n",
       "    <tr>\n",
       "      <th>13</th>\n",
       "      <td>Allison Hill</td>\n",
       "      <td>2024-03-04T00:00:00.000+0000</td>\n",
       "      <td>611133.11</td>\n",
       "      <td>1.11258</td>\n",
       "      <td>679934.475524</td>\n",
       "    </tr>\n",
       "    <tr>\n",
       "      <th>...</th>\n",
       "      <td>...</td>\n",
       "      <td>...</td>\n",
       "      <td>...</td>\n",
       "      <td>...</td>\n",
       "      <td>...</td>\n",
       "    </tr>\n",
       "    <tr>\n",
       "      <th>88</th>\n",
       "      <td>Monica Herrera</td>\n",
       "      <td>2018-02-23T00:00:00.000+0000</td>\n",
       "      <td>31976.14</td>\n",
       "      <td>0.14598</td>\n",
       "      <td>4667.876917</td>\n",
       "    </tr>\n",
       "    <tr>\n",
       "      <th>80</th>\n",
       "      <td>Lisa Archer</td>\n",
       "      <td>2019-02-01T00:00:00.000+0000</td>\n",
       "      <td>24796.49</td>\n",
       "      <td>0.10287</td>\n",
       "      <td>2550.814926</td>\n",
       "    </tr>\n",
       "    <tr>\n",
       "      <th>96</th>\n",
       "      <td>Judy Baker</td>\n",
       "      <td>2017-08-18T00:00:00.000+0000</td>\n",
       "      <td>34401.96</td>\n",
       "      <td>0.04912</td>\n",
       "      <td>1689.824275</td>\n",
       "    </tr>\n",
       "    <tr>\n",
       "      <th>64</th>\n",
       "      <td>Gina Moore</td>\n",
       "      <td>2020-02-14T00:00:00.000+0000</td>\n",
       "      <td>106660.13</td>\n",
       "      <td>0.01074</td>\n",
       "      <td>1145.529796</td>\n",
       "    </tr>\n",
       "    <tr>\n",
       "      <th>73</th>\n",
       "      <td>Victoria Garcia</td>\n",
       "      <td>2019-08-01T00:00:00.000+0000</td>\n",
       "      <td>61190.81</td>\n",
       "      <td>0.01178</td>\n",
       "      <td>720.827742</td>\n",
       "    </tr>\n",
       "  </tbody>\n",
       "</table>\n",
       "<p>100 rows × 5 columns</p>\n",
       "</div>"
      ],
      "text/plain": [
       "                 cliente                   data_compra  preco_btc  \\\n",
       "8   Margaret Hawkins DDS  2024-07-08T00:00:00.000+0000  626697.78   \n",
       "10         Zachary Hicks  2024-05-08T00:00:00.000+0000  649923.13   \n",
       "14          Dylan Miller  2024-01-19T00:00:00.000+0000  661851.98   \n",
       "48             Amy Silva  2021-12-21T00:00:00.000+0000  577134.24   \n",
       "13          Allison Hill  2024-03-04T00:00:00.000+0000  611133.11   \n",
       "..                   ...                           ...        ...   \n",
       "88        Monica Herrera  2018-02-23T00:00:00.000+0000   31976.14   \n",
       "80           Lisa Archer  2019-02-01T00:00:00.000+0000   24796.49   \n",
       "96            Judy Baker  2017-08-18T00:00:00.000+0000   34401.96   \n",
       "64            Gina Moore  2020-02-14T00:00:00.000+0000  106660.13   \n",
       "73       Victoria Garcia  2019-08-01T00:00:00.000+0000   61190.81   \n",
       "\n",
       "    quantidade_btc  total_de_compras  \n",
       "8          1.40505     880541.715789  \n",
       "10         1.32714     862538.982748  \n",
       "14         1.29270     855576.054546  \n",
       "48         1.28409     741092.306242  \n",
       "13         1.11258     679934.475524  \n",
       "..             ...               ...  \n",
       "88         0.14598       4667.876917  \n",
       "80         0.10287       2550.814926  \n",
       "96         0.04912       1689.824275  \n",
       "64         0.01074       1145.529796  \n",
       "73         0.01178        720.827742  \n",
       "\n",
       "[100 rows x 5 columns]"
      ]
     },
     "metadata": {},
     "output_type": "display_data"
    }
   ],
   "source": [
    "df_ordered = df.sort_values(by=\"total_de_compras\", ascending=False)\n",
    "display(df_ordered)"
   ]
  },
  {
   "cell_type": "code",
   "execution_count": 9,
   "metadata": {
    "application/vnd.databricks.v1+cell": {
     "cellMetadata": {
      "byteLimit": 2048000,
      "rowLimit": 10000
     },
     "inputWidgets": {},
     "nuid": "d81df971-1645-488e-8d3c-f9efe990bdc0",
     "showTitle": false,
     "tableResultSettingsMap": {},
     "title": ""
    }
   },
   "outputs": [
    {
     "name": "stdout",
     "output_type": "stream",
     "text": [
      "                      mes_compra  total_de_compras\n",
      "0   2017-02-17T00:00:00.000+0000      15605.236229\n",
      "1   2017-03-02T00:00:00.000+0000     175308.261495\n",
      "2   2017-05-09T00:00:00.000+0000      12072.413384\n",
      "3   2017-08-18T00:00:00.000+0000       1689.824275\n",
      "4   2017-08-21T00:00:00.000+0000      15152.788472\n",
      "..                           ...               ...\n",
      "94  2024-08-19T00:00:00.000+0000      61800.445680\n",
      "95  2024-09-19T00:00:00.000+0000     673556.100983\n",
      "96  2024-09-26T00:00:00.000+0000     290375.101409\n",
      "97  2024-12-09T00:00:00.000+0000     228229.303054\n",
      "98  2025-01-26T00:00:00.000+0000     395480.530196\n",
      "\n",
      "[99 rows x 2 columns]\n"
     ]
    }
   ],
   "source": [
    "df[\"mes_compra\"] = df[\"data_compra\"]                           \n",
    "df_agrupado = df.groupby(\"mes_compra\")[\"total_de_compras\"].sum().reset_index()\n",
    "\n",
    "print(df_agrupado)"
   ]
  },
  {
   "cell_type": "markdown",
   "metadata": {
    "application/vnd.databricks.v1+cell": {
     "cellMetadata": {
      "byteLimit": 2048000,
      "rowLimit": 10000
     },
     "inputWidgets": {},
     "nuid": "0a7c9c0f-e689-4b03-ba7a-a04cb8e82b90",
     "showTitle": false,
     "tableResultSettingsMap": {},
     "title": ""
    }
   },
   "source": [
    "## Obter preço do bitcoin em tempo real."
   ]
  },
  {
   "cell_type": "code",
   "execution_count": 10,
   "metadata": {
    "application/vnd.databricks.v1+cell": {
     "cellMetadata": {
      "byteLimit": 2048000,
      "rowLimit": 10000
     },
     "inputWidgets": {},
     "nuid": "75304819-53d9-4d60-87e4-a78110301d81",
     "showTitle": false,
     "tableResultSettingsMap": {},
     "title": ""
    }
   },
   "outputs": [
    {
     "name": "stdout",
     "output_type": "stream",
     "text": [
      "BTC: 92282.675\n"
     ]
    },
    {
     "data": {
      "text/html": [
       "<div>\n",
       "<style scoped>\n",
       "    .dataframe tbody tr th:only-of-type {\n",
       "        vertical-align: middle;\n",
       "    }\n",
       "\n",
       "    .dataframe tbody tr th {\n",
       "        vertical-align: top;\n",
       "    }\n",
       "\n",
       "    .dataframe thead th {\n",
       "        text-align: right;\n",
       "    }\n",
       "</style>\n",
       "<table border=\"1\" class=\"dataframe\">\n",
       "  <thead>\n",
       "    <tr style=\"text-align: right;\">\n",
       "      <th></th>\n",
       "      <th>cliente</th>\n",
       "      <th>data_compra</th>\n",
       "      <th>preco_btc</th>\n",
       "      <th>quantidade_btc</th>\n",
       "      <th>total_de_compras</th>\n",
       "      <th>mes_compra</th>\n",
       "      <th>resultado_operacao</th>\n",
       "    </tr>\n",
       "  </thead>\n",
       "  <tbody>\n",
       "    <tr>\n",
       "      <th>0</th>\n",
       "      <td>Sherry Decker</td>\n",
       "      <td>2025-01-26T00:00:00.000+0000</td>\n",
       "      <td>526338.91</td>\n",
       "      <td>0.75138</td>\n",
       "      <td>395480.530196</td>\n",
       "      <td>2025-01-26T00:00:00.000+0000</td>\n",
       "      <td>Lucro</td>\n",
       "    </tr>\n",
       "    <tr>\n",
       "      <th>1</th>\n",
       "      <td>Gerald Hensley</td>\n",
       "      <td>2024-12-09T00:00:00.000+0000</td>\n",
       "      <td>663110.30</td>\n",
       "      <td>0.34418</td>\n",
       "      <td>228229.303054</td>\n",
       "      <td>2024-12-09T00:00:00.000+0000</td>\n",
       "      <td>Prejuízo</td>\n",
       "    </tr>\n",
       "    <tr>\n",
       "      <th>2</th>\n",
       "      <td>Timothy Duncan</td>\n",
       "      <td>2024-09-26T00:00:00.000+0000</td>\n",
       "      <td>620115.11</td>\n",
       "      <td>0.46826</td>\n",
       "      <td>290375.101409</td>\n",
       "      <td>2024-09-26T00:00:00.000+0000</td>\n",
       "      <td>Prejuízo</td>\n",
       "    </tr>\n",
       "    <tr>\n",
       "      <th>3</th>\n",
       "      <td>Matthew Foster</td>\n",
       "      <td>2024-09-19T00:00:00.000+0000</td>\n",
       "      <td>655694.97</td>\n",
       "      <td>1.02724</td>\n",
       "      <td>673556.100983</td>\n",
       "      <td>2024-09-19T00:00:00.000+0000</td>\n",
       "      <td>Prejuízo</td>\n",
       "    </tr>\n",
       "    <tr>\n",
       "      <th>4</th>\n",
       "      <td>Jeffrey Chavez</td>\n",
       "      <td>2024-08-19T00:00:00.000+0000</td>\n",
       "      <td>642216.00</td>\n",
       "      <td>0.09623</td>\n",
       "      <td>61800.445680</td>\n",
       "      <td>2024-08-19T00:00:00.000+0000</td>\n",
       "      <td>Prejuízo</td>\n",
       "    </tr>\n",
       "    <tr>\n",
       "      <th>...</th>\n",
       "      <td>...</td>\n",
       "      <td>...</td>\n",
       "      <td>...</td>\n",
       "      <td>...</td>\n",
       "      <td>...</td>\n",
       "      <td>...</td>\n",
       "      <td>...</td>\n",
       "    </tr>\n",
       "    <tr>\n",
       "      <th>95</th>\n",
       "      <td>Christopher Bass</td>\n",
       "      <td>2017-08-21T00:00:00.000+0000</td>\n",
       "      <td>125136.58</td>\n",
       "      <td>0.12109</td>\n",
       "      <td>15152.788472</td>\n",
       "      <td>2017-08-21T00:00:00.000+0000</td>\n",
       "      <td>Lucro</td>\n",
       "    </tr>\n",
       "    <tr>\n",
       "      <th>96</th>\n",
       "      <td>Judy Baker</td>\n",
       "      <td>2017-08-18T00:00:00.000+0000</td>\n",
       "      <td>34401.96</td>\n",
       "      <td>0.04912</td>\n",
       "      <td>1689.824275</td>\n",
       "      <td>2017-08-18T00:00:00.000+0000</td>\n",
       "      <td>Lucro</td>\n",
       "    </tr>\n",
       "    <tr>\n",
       "      <th>97</th>\n",
       "      <td>Connor West</td>\n",
       "      <td>2017-05-09T00:00:00.000+0000</td>\n",
       "      <td>112594.79</td>\n",
       "      <td>0.10722</td>\n",
       "      <td>12072.413384</td>\n",
       "      <td>2017-05-09T00:00:00.000+0000</td>\n",
       "      <td>Lucro</td>\n",
       "    </tr>\n",
       "    <tr>\n",
       "      <th>98</th>\n",
       "      <td>Angela Lopez</td>\n",
       "      <td>2017-03-02T00:00:00.000+0000</td>\n",
       "      <td>126155.54</td>\n",
       "      <td>1.38962</td>\n",
       "      <td>175308.261495</td>\n",
       "      <td>2017-03-02T00:00:00.000+0000</td>\n",
       "      <td>Lucro</td>\n",
       "    </tr>\n",
       "    <tr>\n",
       "      <th>99</th>\n",
       "      <td>Elizabeth Fowler</td>\n",
       "      <td>2017-02-17T00:00:00.000+0000</td>\n",
       "      <td>90355.14</td>\n",
       "      <td>0.17271</td>\n",
       "      <td>15605.236229</td>\n",
       "      <td>2017-02-17T00:00:00.000+0000</td>\n",
       "      <td>Lucro</td>\n",
       "    </tr>\n",
       "  </tbody>\n",
       "</table>\n",
       "<p>100 rows × 7 columns</p>\n",
       "</div>"
      ],
      "text/plain": [
       "             cliente                   data_compra  preco_btc  quantidade_btc  \\\n",
       "0      Sherry Decker  2025-01-26T00:00:00.000+0000  526338.91         0.75138   \n",
       "1     Gerald Hensley  2024-12-09T00:00:00.000+0000  663110.30         0.34418   \n",
       "2     Timothy Duncan  2024-09-26T00:00:00.000+0000  620115.11         0.46826   \n",
       "3     Matthew Foster  2024-09-19T00:00:00.000+0000  655694.97         1.02724   \n",
       "4     Jeffrey Chavez  2024-08-19T00:00:00.000+0000  642216.00         0.09623   \n",
       "..               ...                           ...        ...             ...   \n",
       "95  Christopher Bass  2017-08-21T00:00:00.000+0000  125136.58         0.12109   \n",
       "96        Judy Baker  2017-08-18T00:00:00.000+0000   34401.96         0.04912   \n",
       "97       Connor West  2017-05-09T00:00:00.000+0000  112594.79         0.10722   \n",
       "98      Angela Lopez  2017-03-02T00:00:00.000+0000  126155.54         1.38962   \n",
       "99  Elizabeth Fowler  2017-02-17T00:00:00.000+0000   90355.14         0.17271   \n",
       "\n",
       "    total_de_compras                    mes_compra resultado_operacao  \n",
       "0      395480.530196  2025-01-26T00:00:00.000+0000              Lucro  \n",
       "1      228229.303054  2024-12-09T00:00:00.000+0000           Prejuízo  \n",
       "2      290375.101409  2024-09-26T00:00:00.000+0000           Prejuízo  \n",
       "3      673556.100983  2024-09-19T00:00:00.000+0000           Prejuízo  \n",
       "4       61800.445680  2024-08-19T00:00:00.000+0000           Prejuízo  \n",
       "..               ...                           ...                ...  \n",
       "95      15152.788472  2017-08-21T00:00:00.000+0000              Lucro  \n",
       "96       1689.824275  2017-08-18T00:00:00.000+0000              Lucro  \n",
       "97      12072.413384  2017-05-09T00:00:00.000+0000              Lucro  \n",
       "98     175308.261495  2017-03-02T00:00:00.000+0000              Lucro  \n",
       "99      15605.236229  2017-02-17T00:00:00.000+0000              Lucro  \n",
       "\n",
       "[100 rows x 7 columns]"
      ]
     },
     "metadata": {},
     "output_type": "display_data"
    }
   ],
   "source": [
    "import requests\n",
    "\n",
    "url_btc = \"https://api.coinbase.com/v2/prices/spot?currency=USD\"\n",
    "\n",
    "response_btc = requests.get(url_btc)\n",
    "dados_btc = response_btc.json()\n",
    "\n",
    "preco_atual_btc_dolar = float(dados_btc[\"data\"][\"amount\"])\n",
    "nome_moeda = dados_btc['data']['base']\n",
    "\n",
    "print(f'{nome_moeda}: {preco_atual_btc_dolar}')\n",
    "\n",
    "url_dolar = \"https://economia.awesomeapi.com.br/json/last/USD-BRL\"\n",
    "response_dolar = requests.get(url_dolar)\n",
    "dados_dolar = response_dolar.json()\n",
    "\n",
    "cotacao_dolar_real = float(dados_dolar['USDBRL']['bid'])\n",
    "\n",
    "preco_atual_btc_real = preco_atual_btc_dolar * cotacao_dolar_real\n",
    "\n",
    "# Função para avaliar se houve perda/ganho na negociação do bitcoin\n",
    "def verifica_lucro(preco_compra):\n",
    "    if preco_compra < preco_atual_btc_real:\n",
    "        return \"Lucro\"\n",
    "    else:\n",
    "        return \"Prejuízo\"\n",
    "\n",
    "\n",
    "# Aplicar a função para categorizar cada transação da tabela\n",
    "df[\"resultado_operacao\"] = df[\"preco_btc\"].apply(verifica_lucro)\n",
    "\n",
    "display(df)\n"
   ]
  },
  {
   "cell_type": "code",
   "execution_count": 11,
   "metadata": {
    "application/vnd.databricks.v1+cell": {
     "cellMetadata": {
      "byteLimit": 2048000,
      "rowLimit": 10000
     },
     "inputWidgets": {},
     "nuid": "b9be6d0a-dca2-44cc-8e70-8ab8e406efd5",
     "showTitle": false,
     "tableResultSettingsMap": {},
     "title": ""
    }
   },
   "outputs": [
    {
     "data": {
      "application/vnd.plotly.v1+json": {
       "config": {
        "plotlyServerURL": "https://plot.ly"
       },
       "data": [
        {
         "alignmentgroup": "True",
         "hovertemplate": "Mês de compra=%{x}<br>Total de compras (BTC)=%{y}<extra></extra>",
         "legendgroup": "",
         "marker": {
          "color": "#636efa",
          "pattern": {
           "shape": ""
          }
         },
         "name": "",
         "offsetgroup": "",
         "orientation": "v",
         "showlegend": false,
         "textposition": "auto",
         "texttemplate": "%{y}",
         "type": "bar",
         "x": [
          "2017-02-17T00:00:00.000+0000",
          "2017-03-02T00:00:00.000+0000",
          "2017-05-09T00:00:00.000+0000",
          "2017-08-18T00:00:00.000+0000",
          "2017-08-21T00:00:00.000+0000",
          "2017-09-06T00:00:00.000+0000",
          "2017-09-20T00:00:00.000+0000",
          "2017-10-25T00:00:00.000+0000",
          "2017-11-23T00:00:00.000+0000",
          "2018-02-02T00:00:00.000+0000",
          "2018-02-06T00:00:00.000+0000",
          "2018-02-23T00:00:00.000+0000",
          "2018-03-24T00:00:00.000+0000",
          "2018-03-26T00:00:00.000+0000",
          "2018-09-29T00:00:00.000+0000",
          "2018-10-16T00:00:00.000+0000",
          "2018-10-24T00:00:00.000+0000",
          "2018-11-06T00:00:00.000+0000",
          "2019-01-02T00:00:00.000+0000",
          "2019-02-01T00:00:00.000+0000",
          "2019-02-17T00:00:00.000+0000",
          "2019-04-17T00:00:00.000+0000",
          "2019-05-18T00:00:00.000+0000",
          "2019-05-24T00:00:00.000+0000",
          "2019-05-26T00:00:00.000+0000",
          "2019-06-15T00:00:00.000+0000",
          "2019-08-01T00:00:00.000+0000",
          "2019-08-22T00:00:00.000+0000",
          "2019-08-27T00:00:00.000+0000",
          "2019-09-02T00:00:00.000+0000",
          "2019-10-01T00:00:00.000+0000",
          "2019-10-08T00:00:00.000+0000",
          "2019-10-27T00:00:00.000+0000",
          "2019-12-23T00:00:00.000+0000",
          "2019-12-24T00:00:00.000+0000",
          "2020-02-14T00:00:00.000+0000",
          "2020-03-14T00:00:00.000+0000",
          "2020-05-13T00:00:00.000+0000",
          "2020-06-13T00:00:00.000+0000",
          "2020-07-08T00:00:00.000+0000",
          "2020-07-16T00:00:00.000+0000",
          "2020-10-25T00:00:00.000+0000",
          "2020-11-09T00:00:00.000+0000",
          "2020-11-30T00:00:00.000+0000",
          "2021-01-22T00:00:00.000+0000",
          "2021-02-03T00:00:00.000+0000",
          "2021-03-31T00:00:00.000+0000",
          "2021-04-04T00:00:00.000+0000",
          "2021-04-06T00:00:00.000+0000",
          "2021-04-13T00:00:00.000+0000",
          "2021-08-11T00:00:00.000+0000",
          "2021-12-21T00:00:00.000+0000",
          "2022-01-12T00:00:00.000+0000",
          "2022-02-02T00:00:00.000+0000",
          "2022-02-25T00:00:00.000+0000",
          "2022-03-10T00:00:00.000+0000",
          "2022-04-22T00:00:00.000+0000",
          "2022-05-01T00:00:00.000+0000",
          "2022-06-14T00:00:00.000+0000",
          "2022-06-25T00:00:00.000+0000",
          "2022-08-22T00:00:00.000+0000",
          "2022-09-19T00:00:00.000+0000",
          "2022-10-21T00:00:00.000+0000",
          "2022-12-02T00:00:00.000+0000",
          "2022-12-13T00:00:00.000+0000",
          "2022-12-22T00:00:00.000+0000",
          "2022-12-28T00:00:00.000+0000",
          "2023-01-09T00:00:00.000+0000",
          "2023-01-18T00:00:00.000+0000",
          "2023-02-11T00:00:00.000+0000",
          "2023-03-27T00:00:00.000+0000",
          "2023-04-18T00:00:00.000+0000",
          "2023-04-26T00:00:00.000+0000",
          "2023-05-05T00:00:00.000+0000",
          "2023-05-13T00:00:00.000+0000",
          "2023-05-23T00:00:00.000+0000",
          "2023-05-28T00:00:00.000+0000",
          "2023-06-23T00:00:00.000+0000",
          "2023-07-01T00:00:00.000+0000",
          "2023-07-23T00:00:00.000+0000",
          "2023-08-16T00:00:00.000+0000",
          "2023-10-31T00:00:00.000+0000",
          "2023-12-12T00:00:00.000+0000",
          "2024-01-06T00:00:00.000+0000",
          "2024-01-19T00:00:00.000+0000",
          "2024-03-04T00:00:00.000+0000",
          "2024-03-18T00:00:00.000+0000",
          "2024-04-08T00:00:00.000+0000",
          "2024-05-08T00:00:00.000+0000",
          "2024-06-01T00:00:00.000+0000",
          "2024-07-08T00:00:00.000+0000",
          "2024-07-14T00:00:00.000+0000",
          "2024-07-21T00:00:00.000+0000",
          "2024-08-03T00:00:00.000+0000",
          "2024-08-19T00:00:00.000+0000",
          "2024-09-19T00:00:00.000+0000",
          "2024-09-26T00:00:00.000+0000",
          "2024-12-09T00:00:00.000+0000",
          "2025-01-26T00:00:00.000+0000"
         ],
         "xaxis": "x",
         "y": [
          15605.2362294,
          175308.2614948,
          12072.413383799998,
          1689.8242751999999,
          15152.7884722,
          28499.959634400002,
          42309.4346907,
          6669.4304544,
          145661.531684,
          42925.0411668,
          42495.281352,
          4667.8769172,
          12985.3959728,
          8944.7309235,
          48702.350250400006,
          42947.796489600005,
          82222.81065600002,
          83641.38598620001,
          8914.3594372,
          2550.8149263,
          59242.23310500001,
          31565.0718072,
          96344.02737160001,
          11057.4506315,
          109012.2414928,
          32782.095871800004,
          720.8277418,
          68170.8964105,
          23066.224784399998,
          28776.4782624,
          39364.2800075,
          58363.6766239,
          113603.6299919,
          99953.04899570001,
          48079.9713786,
          1145.5297962,
          114322.29893040001,
          114283.171392,
          24172.3942362,
          47342.0963876,
          7825.3319388,
          37732.2839415,
          111717.7043298,
          147283.5361247,
          299808.5870799,
          87554.818701,
          48642.0403011,
          323117.2973376,
          226933.39759789998,
          310109.9850199,
          392588.9267652,
          741092.3062416,
          45509.144757,
          131135.53167,
          425638.287503,
          276910.2143388,
          108381.0530368,
          105126.0973774,
          559113.9544800001,
          175932.84352320002,
          330186.7649808,
          315144.79537440004,
          98546.2421377,
          253590.16194959998,
          372037.70485439996,
          70625.8656892,
          86895.6634452,
          484638.51421700005,
          312018.32089860004,
          211915.1618424,
          286216.87398639997,
          237581.201799,
          55271.5703052,
          486942.91379639995,
          280147.32449780003,
          230886.2897238,
          133092.6183825,
          25423.695161000003,
          38377.968442000005,
          277689.7786504,
          14386.7341366,
          136810.345325,
          203429.898216,
          603888.5889792,
          855576.054546,
          679934.4755237999,
          257101.0587314,
          578501.4444075,
          862538.9827482,
          270782.7901857,
          880541.715789,
          437369.13251510006,
          645132.352191,
          551723.6512450001,
          61800.44568,
          673556.1009827999,
          290375.1014086,
          228229.30305400002,
          395480.53019580006
         ],
         "yaxis": "y"
        }
       ],
       "layout": {
        "barmode": "relative",
        "legend": {
         "tracegroupgap": 0
        },
        "template": {
         "data": {
          "bar": [
           {
            "error_x": {
             "color": "#2a3f5f"
            },
            "error_y": {
             "color": "#2a3f5f"
            },
            "marker": {
             "line": {
              "color": "#E5ECF6",
              "width": 0.5
             },
             "pattern": {
              "fillmode": "overlay",
              "size": 10,
              "solidity": 0.2
             }
            },
            "type": "bar"
           }
          ],
          "barpolar": [
           {
            "marker": {
             "line": {
              "color": "#E5ECF6",
              "width": 0.5
             },
             "pattern": {
              "fillmode": "overlay",
              "size": 10,
              "solidity": 0.2
             }
            },
            "type": "barpolar"
           }
          ],
          "carpet": [
           {
            "aaxis": {
             "endlinecolor": "#2a3f5f",
             "gridcolor": "white",
             "linecolor": "white",
             "minorgridcolor": "white",
             "startlinecolor": "#2a3f5f"
            },
            "baxis": {
             "endlinecolor": "#2a3f5f",
             "gridcolor": "white",
             "linecolor": "white",
             "minorgridcolor": "white",
             "startlinecolor": "#2a3f5f"
            },
            "type": "carpet"
           }
          ],
          "choropleth": [
           {
            "colorbar": {
             "outlinewidth": 0,
             "ticks": ""
            },
            "type": "choropleth"
           }
          ],
          "contour": [
           {
            "colorbar": {
             "outlinewidth": 0,
             "ticks": ""
            },
            "colorscale": [
             [
              0,
              "#0d0887"
             ],
             [
              0.1111111111111111,
              "#46039f"
             ],
             [
              0.2222222222222222,
              "#7201a8"
             ],
             [
              0.3333333333333333,
              "#9c179e"
             ],
             [
              0.4444444444444444,
              "#bd3786"
             ],
             [
              0.5555555555555556,
              "#d8576b"
             ],
             [
              0.6666666666666666,
              "#ed7953"
             ],
             [
              0.7777777777777778,
              "#fb9f3a"
             ],
             [
              0.8888888888888888,
              "#fdca26"
             ],
             [
              1,
              "#f0f921"
             ]
            ],
            "type": "contour"
           }
          ],
          "contourcarpet": [
           {
            "colorbar": {
             "outlinewidth": 0,
             "ticks": ""
            },
            "type": "contourcarpet"
           }
          ],
          "heatmap": [
           {
            "colorbar": {
             "outlinewidth": 0,
             "ticks": ""
            },
            "colorscale": [
             [
              0,
              "#0d0887"
             ],
             [
              0.1111111111111111,
              "#46039f"
             ],
             [
              0.2222222222222222,
              "#7201a8"
             ],
             [
              0.3333333333333333,
              "#9c179e"
             ],
             [
              0.4444444444444444,
              "#bd3786"
             ],
             [
              0.5555555555555556,
              "#d8576b"
             ],
             [
              0.6666666666666666,
              "#ed7953"
             ],
             [
              0.7777777777777778,
              "#fb9f3a"
             ],
             [
              0.8888888888888888,
              "#fdca26"
             ],
             [
              1,
              "#f0f921"
             ]
            ],
            "type": "heatmap"
           }
          ],
          "heatmapgl": [
           {
            "colorbar": {
             "outlinewidth": 0,
             "ticks": ""
            },
            "colorscale": [
             [
              0,
              "#0d0887"
             ],
             [
              0.1111111111111111,
              "#46039f"
             ],
             [
              0.2222222222222222,
              "#7201a8"
             ],
             [
              0.3333333333333333,
              "#9c179e"
             ],
             [
              0.4444444444444444,
              "#bd3786"
             ],
             [
              0.5555555555555556,
              "#d8576b"
             ],
             [
              0.6666666666666666,
              "#ed7953"
             ],
             [
              0.7777777777777778,
              "#fb9f3a"
             ],
             [
              0.8888888888888888,
              "#fdca26"
             ],
             [
              1,
              "#f0f921"
             ]
            ],
            "type": "heatmapgl"
           }
          ],
          "histogram": [
           {
            "marker": {
             "pattern": {
              "fillmode": "overlay",
              "size": 10,
              "solidity": 0.2
             }
            },
            "type": "histogram"
           }
          ],
          "histogram2d": [
           {
            "colorbar": {
             "outlinewidth": 0,
             "ticks": ""
            },
            "colorscale": [
             [
              0,
              "#0d0887"
             ],
             [
              0.1111111111111111,
              "#46039f"
             ],
             [
              0.2222222222222222,
              "#7201a8"
             ],
             [
              0.3333333333333333,
              "#9c179e"
             ],
             [
              0.4444444444444444,
              "#bd3786"
             ],
             [
              0.5555555555555556,
              "#d8576b"
             ],
             [
              0.6666666666666666,
              "#ed7953"
             ],
             [
              0.7777777777777778,
              "#fb9f3a"
             ],
             [
              0.8888888888888888,
              "#fdca26"
             ],
             [
              1,
              "#f0f921"
             ]
            ],
            "type": "histogram2d"
           }
          ],
          "histogram2dcontour": [
           {
            "colorbar": {
             "outlinewidth": 0,
             "ticks": ""
            },
            "colorscale": [
             [
              0,
              "#0d0887"
             ],
             [
              0.1111111111111111,
              "#46039f"
             ],
             [
              0.2222222222222222,
              "#7201a8"
             ],
             [
              0.3333333333333333,
              "#9c179e"
             ],
             [
              0.4444444444444444,
              "#bd3786"
             ],
             [
              0.5555555555555556,
              "#d8576b"
             ],
             [
              0.6666666666666666,
              "#ed7953"
             ],
             [
              0.7777777777777778,
              "#fb9f3a"
             ],
             [
              0.8888888888888888,
              "#fdca26"
             ],
             [
              1,
              "#f0f921"
             ]
            ],
            "type": "histogram2dcontour"
           }
          ],
          "mesh3d": [
           {
            "colorbar": {
             "outlinewidth": 0,
             "ticks": ""
            },
            "type": "mesh3d"
           }
          ],
          "parcoords": [
           {
            "line": {
             "colorbar": {
              "outlinewidth": 0,
              "ticks": ""
             }
            },
            "type": "parcoords"
           }
          ],
          "pie": [
           {
            "automargin": true,
            "type": "pie"
           }
          ],
          "scatter": [
           {
            "fillpattern": {
             "fillmode": "overlay",
             "size": 10,
             "solidity": 0.2
            },
            "type": "scatter"
           }
          ],
          "scatter3d": [
           {
            "line": {
             "colorbar": {
              "outlinewidth": 0,
              "ticks": ""
             }
            },
            "marker": {
             "colorbar": {
              "outlinewidth": 0,
              "ticks": ""
             }
            },
            "type": "scatter3d"
           }
          ],
          "scattercarpet": [
           {
            "marker": {
             "colorbar": {
              "outlinewidth": 0,
              "ticks": ""
             }
            },
            "type": "scattercarpet"
           }
          ],
          "scattergeo": [
           {
            "marker": {
             "colorbar": {
              "outlinewidth": 0,
              "ticks": ""
             }
            },
            "type": "scattergeo"
           }
          ],
          "scattergl": [
           {
            "marker": {
             "colorbar": {
              "outlinewidth": 0,
              "ticks": ""
             }
            },
            "type": "scattergl"
           }
          ],
          "scattermapbox": [
           {
            "marker": {
             "colorbar": {
              "outlinewidth": 0,
              "ticks": ""
             }
            },
            "type": "scattermapbox"
           }
          ],
          "scatterpolar": [
           {
            "marker": {
             "colorbar": {
              "outlinewidth": 0,
              "ticks": ""
             }
            },
            "type": "scatterpolar"
           }
          ],
          "scatterpolargl": [
           {
            "marker": {
             "colorbar": {
              "outlinewidth": 0,
              "ticks": ""
             }
            },
            "type": "scatterpolargl"
           }
          ],
          "scatterternary": [
           {
            "marker": {
             "colorbar": {
              "outlinewidth": 0,
              "ticks": ""
             }
            },
            "type": "scatterternary"
           }
          ],
          "surface": [
           {
            "colorbar": {
             "outlinewidth": 0,
             "ticks": ""
            },
            "colorscale": [
             [
              0,
              "#0d0887"
             ],
             [
              0.1111111111111111,
              "#46039f"
             ],
             [
              0.2222222222222222,
              "#7201a8"
             ],
             [
              0.3333333333333333,
              "#9c179e"
             ],
             [
              0.4444444444444444,
              "#bd3786"
             ],
             [
              0.5555555555555556,
              "#d8576b"
             ],
             [
              0.6666666666666666,
              "#ed7953"
             ],
             [
              0.7777777777777778,
              "#fb9f3a"
             ],
             [
              0.8888888888888888,
              "#fdca26"
             ],
             [
              1,
              "#f0f921"
             ]
            ],
            "type": "surface"
           }
          ],
          "table": [
           {
            "cells": {
             "fill": {
              "color": "#EBF0F8"
             },
             "line": {
              "color": "white"
             }
            },
            "header": {
             "fill": {
              "color": "#C8D4E3"
             },
             "line": {
              "color": "white"
             }
            },
            "type": "table"
           }
          ]
         },
         "layout": {
          "annotationdefaults": {
           "arrowcolor": "#2a3f5f",
           "arrowhead": 0,
           "arrowwidth": 1
          },
          "autotypenumbers": "strict",
          "coloraxis": {
           "colorbar": {
            "outlinewidth": 0,
            "ticks": ""
           }
          },
          "colorscale": {
           "diverging": [
            [
             0,
             "#8e0152"
            ],
            [
             0.1,
             "#c51b7d"
            ],
            [
             0.2,
             "#de77ae"
            ],
            [
             0.3,
             "#f1b6da"
            ],
            [
             0.4,
             "#fde0ef"
            ],
            [
             0.5,
             "#f7f7f7"
            ],
            [
             0.6,
             "#e6f5d0"
            ],
            [
             0.7,
             "#b8e186"
            ],
            [
             0.8,
             "#7fbc41"
            ],
            [
             0.9,
             "#4d9221"
            ],
            [
             1,
             "#276419"
            ]
           ],
           "sequential": [
            [
             0,
             "#0d0887"
            ],
            [
             0.1111111111111111,
             "#46039f"
            ],
            [
             0.2222222222222222,
             "#7201a8"
            ],
            [
             0.3333333333333333,
             "#9c179e"
            ],
            [
             0.4444444444444444,
             "#bd3786"
            ],
            [
             0.5555555555555556,
             "#d8576b"
            ],
            [
             0.6666666666666666,
             "#ed7953"
            ],
            [
             0.7777777777777778,
             "#fb9f3a"
            ],
            [
             0.8888888888888888,
             "#fdca26"
            ],
            [
             1,
             "#f0f921"
            ]
           ],
           "sequentialminus": [
            [
             0,
             "#0d0887"
            ],
            [
             0.1111111111111111,
             "#46039f"
            ],
            [
             0.2222222222222222,
             "#7201a8"
            ],
            [
             0.3333333333333333,
             "#9c179e"
            ],
            [
             0.4444444444444444,
             "#bd3786"
            ],
            [
             0.5555555555555556,
             "#d8576b"
            ],
            [
             0.6666666666666666,
             "#ed7953"
            ],
            [
             0.7777777777777778,
             "#fb9f3a"
            ],
            [
             0.8888888888888888,
             "#fdca26"
            ],
            [
             1,
             "#f0f921"
            ]
           ]
          },
          "colorway": [
           "#636efa",
           "#EF553B",
           "#00cc96",
           "#ab63fa",
           "#FFA15A",
           "#19d3f3",
           "#FF6692",
           "#B6E880",
           "#FF97FF",
           "#FECB52"
          ],
          "font": {
           "color": "#2a3f5f"
          },
          "geo": {
           "bgcolor": "white",
           "lakecolor": "white",
           "landcolor": "#E5ECF6",
           "showlakes": true,
           "showland": true,
           "subunitcolor": "white"
          },
          "hoverlabel": {
           "align": "left"
          },
          "hovermode": "closest",
          "mapbox": {
           "style": "light"
          },
          "paper_bgcolor": "white",
          "plot_bgcolor": "#E5ECF6",
          "polar": {
           "angularaxis": {
            "gridcolor": "white",
            "linecolor": "white",
            "ticks": ""
           },
           "bgcolor": "#E5ECF6",
           "radialaxis": {
            "gridcolor": "white",
            "linecolor": "white",
            "ticks": ""
           }
          },
          "scene": {
           "xaxis": {
            "backgroundcolor": "#E5ECF6",
            "gridcolor": "white",
            "gridwidth": 2,
            "linecolor": "white",
            "showbackground": true,
            "ticks": "",
            "zerolinecolor": "white"
           },
           "yaxis": {
            "backgroundcolor": "#E5ECF6",
            "gridcolor": "white",
            "gridwidth": 2,
            "linecolor": "white",
            "showbackground": true,
            "ticks": "",
            "zerolinecolor": "white"
           },
           "zaxis": {
            "backgroundcolor": "#E5ECF6",
            "gridcolor": "white",
            "gridwidth": 2,
            "linecolor": "white",
            "showbackground": true,
            "ticks": "",
            "zerolinecolor": "white"
           }
          },
          "shapedefaults": {
           "line": {
            "color": "#2a3f5f"
           }
          },
          "ternary": {
           "aaxis": {
            "gridcolor": "white",
            "linecolor": "white",
            "ticks": ""
           },
           "baxis": {
            "gridcolor": "white",
            "linecolor": "white",
            "ticks": ""
           },
           "bgcolor": "#E5ECF6",
           "caxis": {
            "gridcolor": "white",
            "linecolor": "white",
            "ticks": ""
           }
          },
          "title": {
           "x": 0.05
          },
          "xaxis": {
           "automargin": true,
           "gridcolor": "white",
           "linecolor": "white",
           "ticks": "",
           "title": {
            "standoff": 15
           },
           "zerolinecolor": "white",
           "zerolinewidth": 2
          },
          "yaxis": {
           "automargin": true,
           "gridcolor": "white",
           "linecolor": "white",
           "ticks": "",
           "title": {
            "standoff": 15
           },
           "zerolinecolor": "white",
           "zerolinewidth": 2
          }
         }
        },
        "title": {
         "text": "Gráfico de Barras (BTC Retrospectiva)"
        },
        "xaxis": {
         "anchor": "y",
         "domain": [
          0,
          1
         ],
         "title": {
          "text": "Mês de compra"
         }
        },
        "yaxis": {
         "anchor": "x",
         "domain": [
          0,
          1
         ],
         "title": {
          "text": "Total de compras (BTC)"
         }
        }
       }
      }
     },
     "metadata": {},
     "output_type": "display_data"
    }
   ],
   "source": [
    "import plotly.express as px\n",
    "\n",
    "df[\"mes_compra_str\"] = df[\"mes_compra\"].astype(str)\n",
    "\n",
    "fig = px.bar(df.groupby(\"mes_compra_str\")[\"total_de_compras\"].sum().reset_index(), \n",
    "             x=\"mes_compra_str\", \n",
    "             y=\"total_de_compras\", \n",
    "             title=\"Gráfico de Barras (BTC Retrospectiva)\",\n",
    "             text_auto=True,\n",
    "             labels={\"mes_compra_str\": \"Mês de compra\", \"total_de_compras\": \"Total de compras (BTC)\"}\n",
    "            )\n",
    "fig.show()"
   ]
  },
  {
   "cell_type": "code",
   "execution_count": 12,
   "metadata": {
    "application/vnd.databricks.v1+cell": {
     "cellMetadata": {
      "byteLimit": 2048000,
      "rowLimit": 10000
     },
     "inputWidgets": {},
     "nuid": "d7d1d6e1-d4e7-4e76-abf9-fe6bd197fd2f",
     "showTitle": false,
     "tableResultSettingsMap": {},
     "title": ""
    }
   },
   "outputs": [
    {
     "data": {
      "application/vnd.plotly.v1+json": {
       "config": {
        "plotlyServerURL": "https://plot.ly"
       },
       "data": [
        {
         "domain": {
          "x": [
           0,
           1
          ],
          "y": [
           0,
           1
          ]
         },
         "hole": 0.3,
         "hovertemplate": "resultado_operacao=%{label}<extra></extra>",
         "labels": [
          "Lucro",
          "Prejuízo",
          "Prejuízo",
          "Prejuízo",
          "Prejuízo",
          "Prejuízo",
          "Prejuízo",
          "Prejuízo",
          "Prejuízo",
          "Prejuízo",
          "Prejuízo",
          "Prejuízo",
          "Prejuízo",
          "Prejuízo",
          "Prejuízo",
          "Prejuízo",
          "Lucro",
          "Lucro",
          "Lucro",
          "Lucro",
          "Lucro",
          "Lucro",
          "Lucro",
          "Lucro",
          "Lucro",
          "Lucro",
          "Lucro",
          "Lucro",
          "Lucro",
          "Lucro",
          "Lucro",
          "Lucro",
          "Lucro",
          "Lucro",
          "Lucro",
          "Lucro",
          "Lucro",
          "Lucro",
          "Lucro",
          "Lucro",
          "Lucro",
          "Lucro",
          "Lucro",
          "Lucro",
          "Lucro",
          "Lucro",
          "Lucro",
          "Lucro",
          "Prejuízo",
          "Lucro",
          "Lucro",
          "Lucro",
          "Lucro",
          "Lucro",
          "Lucro",
          "Lucro",
          "Lucro",
          "Lucro",
          "Lucro",
          "Lucro",
          "Lucro",
          "Lucro",
          "Lucro",
          "Lucro",
          "Lucro",
          "Lucro",
          "Lucro",
          "Lucro",
          "Lucro",
          "Lucro",
          "Lucro",
          "Lucro",
          "Lucro",
          "Lucro",
          "Lucro",
          "Lucro",
          "Lucro",
          "Lucro",
          "Lucro",
          "Lucro",
          "Lucro",
          "Lucro",
          "Lucro",
          "Lucro",
          "Lucro",
          "Lucro",
          "Lucro",
          "Lucro",
          "Lucro",
          "Lucro",
          "Lucro",
          "Lucro",
          "Lucro",
          "Lucro",
          "Lucro",
          "Lucro",
          "Lucro",
          "Lucro",
          "Lucro",
          "Lucro"
         ],
         "legendgroup": "",
         "name": "",
         "showlegend": true,
         "type": "pie"
        }
       ],
       "layout": {
        "legend": {
         "tracegroupgap": 0
        },
        "template": {
         "data": {
          "bar": [
           {
            "error_x": {
             "color": "#2a3f5f"
            },
            "error_y": {
             "color": "#2a3f5f"
            },
            "marker": {
             "line": {
              "color": "#E5ECF6",
              "width": 0.5
             },
             "pattern": {
              "fillmode": "overlay",
              "size": 10,
              "solidity": 0.2
             }
            },
            "type": "bar"
           }
          ],
          "barpolar": [
           {
            "marker": {
             "line": {
              "color": "#E5ECF6",
              "width": 0.5
             },
             "pattern": {
              "fillmode": "overlay",
              "size": 10,
              "solidity": 0.2
             }
            },
            "type": "barpolar"
           }
          ],
          "carpet": [
           {
            "aaxis": {
             "endlinecolor": "#2a3f5f",
             "gridcolor": "white",
             "linecolor": "white",
             "minorgridcolor": "white",
             "startlinecolor": "#2a3f5f"
            },
            "baxis": {
             "endlinecolor": "#2a3f5f",
             "gridcolor": "white",
             "linecolor": "white",
             "minorgridcolor": "white",
             "startlinecolor": "#2a3f5f"
            },
            "type": "carpet"
           }
          ],
          "choropleth": [
           {
            "colorbar": {
             "outlinewidth": 0,
             "ticks": ""
            },
            "type": "choropleth"
           }
          ],
          "contour": [
           {
            "colorbar": {
             "outlinewidth": 0,
             "ticks": ""
            },
            "colorscale": [
             [
              0,
              "#0d0887"
             ],
             [
              0.1111111111111111,
              "#46039f"
             ],
             [
              0.2222222222222222,
              "#7201a8"
             ],
             [
              0.3333333333333333,
              "#9c179e"
             ],
             [
              0.4444444444444444,
              "#bd3786"
             ],
             [
              0.5555555555555556,
              "#d8576b"
             ],
             [
              0.6666666666666666,
              "#ed7953"
             ],
             [
              0.7777777777777778,
              "#fb9f3a"
             ],
             [
              0.8888888888888888,
              "#fdca26"
             ],
             [
              1,
              "#f0f921"
             ]
            ],
            "type": "contour"
           }
          ],
          "contourcarpet": [
           {
            "colorbar": {
             "outlinewidth": 0,
             "ticks": ""
            },
            "type": "contourcarpet"
           }
          ],
          "heatmap": [
           {
            "colorbar": {
             "outlinewidth": 0,
             "ticks": ""
            },
            "colorscale": [
             [
              0,
              "#0d0887"
             ],
             [
              0.1111111111111111,
              "#46039f"
             ],
             [
              0.2222222222222222,
              "#7201a8"
             ],
             [
              0.3333333333333333,
              "#9c179e"
             ],
             [
              0.4444444444444444,
              "#bd3786"
             ],
             [
              0.5555555555555556,
              "#d8576b"
             ],
             [
              0.6666666666666666,
              "#ed7953"
             ],
             [
              0.7777777777777778,
              "#fb9f3a"
             ],
             [
              0.8888888888888888,
              "#fdca26"
             ],
             [
              1,
              "#f0f921"
             ]
            ],
            "type": "heatmap"
           }
          ],
          "heatmapgl": [
           {
            "colorbar": {
             "outlinewidth": 0,
             "ticks": ""
            },
            "colorscale": [
             [
              0,
              "#0d0887"
             ],
             [
              0.1111111111111111,
              "#46039f"
             ],
             [
              0.2222222222222222,
              "#7201a8"
             ],
             [
              0.3333333333333333,
              "#9c179e"
             ],
             [
              0.4444444444444444,
              "#bd3786"
             ],
             [
              0.5555555555555556,
              "#d8576b"
             ],
             [
              0.6666666666666666,
              "#ed7953"
             ],
             [
              0.7777777777777778,
              "#fb9f3a"
             ],
             [
              0.8888888888888888,
              "#fdca26"
             ],
             [
              1,
              "#f0f921"
             ]
            ],
            "type": "heatmapgl"
           }
          ],
          "histogram": [
           {
            "marker": {
             "pattern": {
              "fillmode": "overlay",
              "size": 10,
              "solidity": 0.2
             }
            },
            "type": "histogram"
           }
          ],
          "histogram2d": [
           {
            "colorbar": {
             "outlinewidth": 0,
             "ticks": ""
            },
            "colorscale": [
             [
              0,
              "#0d0887"
             ],
             [
              0.1111111111111111,
              "#46039f"
             ],
             [
              0.2222222222222222,
              "#7201a8"
             ],
             [
              0.3333333333333333,
              "#9c179e"
             ],
             [
              0.4444444444444444,
              "#bd3786"
             ],
             [
              0.5555555555555556,
              "#d8576b"
             ],
             [
              0.6666666666666666,
              "#ed7953"
             ],
             [
              0.7777777777777778,
              "#fb9f3a"
             ],
             [
              0.8888888888888888,
              "#fdca26"
             ],
             [
              1,
              "#f0f921"
             ]
            ],
            "type": "histogram2d"
           }
          ],
          "histogram2dcontour": [
           {
            "colorbar": {
             "outlinewidth": 0,
             "ticks": ""
            },
            "colorscale": [
             [
              0,
              "#0d0887"
             ],
             [
              0.1111111111111111,
              "#46039f"
             ],
             [
              0.2222222222222222,
              "#7201a8"
             ],
             [
              0.3333333333333333,
              "#9c179e"
             ],
             [
              0.4444444444444444,
              "#bd3786"
             ],
             [
              0.5555555555555556,
              "#d8576b"
             ],
             [
              0.6666666666666666,
              "#ed7953"
             ],
             [
              0.7777777777777778,
              "#fb9f3a"
             ],
             [
              0.8888888888888888,
              "#fdca26"
             ],
             [
              1,
              "#f0f921"
             ]
            ],
            "type": "histogram2dcontour"
           }
          ],
          "mesh3d": [
           {
            "colorbar": {
             "outlinewidth": 0,
             "ticks": ""
            },
            "type": "mesh3d"
           }
          ],
          "parcoords": [
           {
            "line": {
             "colorbar": {
              "outlinewidth": 0,
              "ticks": ""
             }
            },
            "type": "parcoords"
           }
          ],
          "pie": [
           {
            "automargin": true,
            "type": "pie"
           }
          ],
          "scatter": [
           {
            "fillpattern": {
             "fillmode": "overlay",
             "size": 10,
             "solidity": 0.2
            },
            "type": "scatter"
           }
          ],
          "scatter3d": [
           {
            "line": {
             "colorbar": {
              "outlinewidth": 0,
              "ticks": ""
             }
            },
            "marker": {
             "colorbar": {
              "outlinewidth": 0,
              "ticks": ""
             }
            },
            "type": "scatter3d"
           }
          ],
          "scattercarpet": [
           {
            "marker": {
             "colorbar": {
              "outlinewidth": 0,
              "ticks": ""
             }
            },
            "type": "scattercarpet"
           }
          ],
          "scattergeo": [
           {
            "marker": {
             "colorbar": {
              "outlinewidth": 0,
              "ticks": ""
             }
            },
            "type": "scattergeo"
           }
          ],
          "scattergl": [
           {
            "marker": {
             "colorbar": {
              "outlinewidth": 0,
              "ticks": ""
             }
            },
            "type": "scattergl"
           }
          ],
          "scattermapbox": [
           {
            "marker": {
             "colorbar": {
              "outlinewidth": 0,
              "ticks": ""
             }
            },
            "type": "scattermapbox"
           }
          ],
          "scatterpolar": [
           {
            "marker": {
             "colorbar": {
              "outlinewidth": 0,
              "ticks": ""
             }
            },
            "type": "scatterpolar"
           }
          ],
          "scatterpolargl": [
           {
            "marker": {
             "colorbar": {
              "outlinewidth": 0,
              "ticks": ""
             }
            },
            "type": "scatterpolargl"
           }
          ],
          "scatterternary": [
           {
            "marker": {
             "colorbar": {
              "outlinewidth": 0,
              "ticks": ""
             }
            },
            "type": "scatterternary"
           }
          ],
          "surface": [
           {
            "colorbar": {
             "outlinewidth": 0,
             "ticks": ""
            },
            "colorscale": [
             [
              0,
              "#0d0887"
             ],
             [
              0.1111111111111111,
              "#46039f"
             ],
             [
              0.2222222222222222,
              "#7201a8"
             ],
             [
              0.3333333333333333,
              "#9c179e"
             ],
             [
              0.4444444444444444,
              "#bd3786"
             ],
             [
              0.5555555555555556,
              "#d8576b"
             ],
             [
              0.6666666666666666,
              "#ed7953"
             ],
             [
              0.7777777777777778,
              "#fb9f3a"
             ],
             [
              0.8888888888888888,
              "#fdca26"
             ],
             [
              1,
              "#f0f921"
             ]
            ],
            "type": "surface"
           }
          ],
          "table": [
           {
            "cells": {
             "fill": {
              "color": "#EBF0F8"
             },
             "line": {
              "color": "white"
             }
            },
            "header": {
             "fill": {
              "color": "#C8D4E3"
             },
             "line": {
              "color": "white"
             }
            },
            "type": "table"
           }
          ]
         },
         "layout": {
          "annotationdefaults": {
           "arrowcolor": "#2a3f5f",
           "arrowhead": 0,
           "arrowwidth": 1
          },
          "autotypenumbers": "strict",
          "coloraxis": {
           "colorbar": {
            "outlinewidth": 0,
            "ticks": ""
           }
          },
          "colorscale": {
           "diverging": [
            [
             0,
             "#8e0152"
            ],
            [
             0.1,
             "#c51b7d"
            ],
            [
             0.2,
             "#de77ae"
            ],
            [
             0.3,
             "#f1b6da"
            ],
            [
             0.4,
             "#fde0ef"
            ],
            [
             0.5,
             "#f7f7f7"
            ],
            [
             0.6,
             "#e6f5d0"
            ],
            [
             0.7,
             "#b8e186"
            ],
            [
             0.8,
             "#7fbc41"
            ],
            [
             0.9,
             "#4d9221"
            ],
            [
             1,
             "#276419"
            ]
           ],
           "sequential": [
            [
             0,
             "#0d0887"
            ],
            [
             0.1111111111111111,
             "#46039f"
            ],
            [
             0.2222222222222222,
             "#7201a8"
            ],
            [
             0.3333333333333333,
             "#9c179e"
            ],
            [
             0.4444444444444444,
             "#bd3786"
            ],
            [
             0.5555555555555556,
             "#d8576b"
            ],
            [
             0.6666666666666666,
             "#ed7953"
            ],
            [
             0.7777777777777778,
             "#fb9f3a"
            ],
            [
             0.8888888888888888,
             "#fdca26"
            ],
            [
             1,
             "#f0f921"
            ]
           ],
           "sequentialminus": [
            [
             0,
             "#0d0887"
            ],
            [
             0.1111111111111111,
             "#46039f"
            ],
            [
             0.2222222222222222,
             "#7201a8"
            ],
            [
             0.3333333333333333,
             "#9c179e"
            ],
            [
             0.4444444444444444,
             "#bd3786"
            ],
            [
             0.5555555555555556,
             "#d8576b"
            ],
            [
             0.6666666666666666,
             "#ed7953"
            ],
            [
             0.7777777777777778,
             "#fb9f3a"
            ],
            [
             0.8888888888888888,
             "#fdca26"
            ],
            [
             1,
             "#f0f921"
            ]
           ]
          },
          "colorway": [
           "#636efa",
           "#EF553B",
           "#00cc96",
           "#ab63fa",
           "#FFA15A",
           "#19d3f3",
           "#FF6692",
           "#B6E880",
           "#FF97FF",
           "#FECB52"
          ],
          "font": {
           "color": "#2a3f5f"
          },
          "geo": {
           "bgcolor": "white",
           "lakecolor": "white",
           "landcolor": "#E5ECF6",
           "showlakes": true,
           "showland": true,
           "subunitcolor": "white"
          },
          "hoverlabel": {
           "align": "left"
          },
          "hovermode": "closest",
          "mapbox": {
           "style": "light"
          },
          "paper_bgcolor": "white",
          "plot_bgcolor": "#E5ECF6",
          "polar": {
           "angularaxis": {
            "gridcolor": "white",
            "linecolor": "white",
            "ticks": ""
           },
           "bgcolor": "#E5ECF6",
           "radialaxis": {
            "gridcolor": "white",
            "linecolor": "white",
            "ticks": ""
           }
          },
          "scene": {
           "xaxis": {
            "backgroundcolor": "#E5ECF6",
            "gridcolor": "white",
            "gridwidth": 2,
            "linecolor": "white",
            "showbackground": true,
            "ticks": "",
            "zerolinecolor": "white"
           },
           "yaxis": {
            "backgroundcolor": "#E5ECF6",
            "gridcolor": "white",
            "gridwidth": 2,
            "linecolor": "white",
            "showbackground": true,
            "ticks": "",
            "zerolinecolor": "white"
           },
           "zaxis": {
            "backgroundcolor": "#E5ECF6",
            "gridcolor": "white",
            "gridwidth": 2,
            "linecolor": "white",
            "showbackground": true,
            "ticks": "",
            "zerolinecolor": "white"
           }
          },
          "shapedefaults": {
           "line": {
            "color": "#2a3f5f"
           }
          },
          "ternary": {
           "aaxis": {
            "gridcolor": "white",
            "linecolor": "white",
            "ticks": ""
           },
           "baxis": {
            "gridcolor": "white",
            "linecolor": "white",
            "ticks": ""
           },
           "bgcolor": "#E5ECF6",
           "caxis": {
            "gridcolor": "white",
            "linecolor": "white",
            "ticks": ""
           }
          },
          "title": {
           "x": 0.05
          },
          "xaxis": {
           "automargin": true,
           "gridcolor": "white",
           "linecolor": "white",
           "ticks": "",
           "title": {
            "standoff": 15
           },
           "zerolinecolor": "white",
           "zerolinewidth": 2
          },
          "yaxis": {
           "automargin": true,
           "gridcolor": "white",
           "linecolor": "white",
           "ticks": "",
           "title": {
            "standoff": 15
           },
           "zerolinecolor": "white",
           "zerolinewidth": 2
          }
         }
        },
        "title": {
         "text": "Lucro x Prejuízo (BTC)"
        }
       }
      }
     },
     "metadata": {},
     "output_type": "display_data"
    }
   ],
   "source": [
    "# Lucro x Prejuízo em Porcentagem\n",
    "fig_pie = px.pie(df,\n",
    "                 names=\"resultado_operacao\",\n",
    "                 title=\"Lucro x Prejuízo (BTC)\",\n",
    "                 hole=0.3\n",
    ")\n",
    "fig_pie.show()"
   ]
  },
  {
   "cell_type": "code",
   "execution_count": 13,
   "metadata": {
    "application/vnd.databricks.v1+cell": {
     "cellMetadata": {
      "byteLimit": 2048000,
      "rowLimit": 10000
     },
     "inputWidgets": {},
     "nuid": "5143d947-a66c-4e6e-aad9-143dd59f0d2a",
     "showTitle": false,
     "tableResultSettingsMap": {},
     "title": ""
    }
   },
   "outputs": [
    {
     "data": {
      "application/vnd.plotly.v1+json": {
       "config": {
        "plotlyServerURL": "https://plot.ly"
       },
       "data": [
        {
         "hovertemplate": "Data da compra=%{x}<br>Preço BTC (USD)=%{y}<extra></extra>",
         "legendgroup": "",
         "line": {
          "color": "#636efa",
          "dash": "solid"
         },
         "marker": {
          "symbol": "circle"
         },
         "mode": "lines+markers",
         "name": "",
         "orientation": "v",
         "showlegend": false,
         "type": "scatter",
         "x": [
          "2025-01-26T00:00:00.000+0000",
          "2024-12-09T00:00:00.000+0000",
          "2024-09-26T00:00:00.000+0000",
          "2024-09-19T00:00:00.000+0000",
          "2024-08-19T00:00:00.000+0000",
          "2024-08-03T00:00:00.000+0000",
          "2024-07-21T00:00:00.000+0000",
          "2024-07-14T00:00:00.000+0000",
          "2024-07-08T00:00:00.000+0000",
          "2024-06-01T00:00:00.000+0000",
          "2024-05-08T00:00:00.000+0000",
          "2024-04-08T00:00:00.000+0000",
          "2024-03-18T00:00:00.000+0000",
          "2024-03-04T00:00:00.000+0000",
          "2024-01-19T00:00:00.000+0000",
          "2024-01-06T00:00:00.000+0000",
          "2023-12-12T00:00:00.000+0000",
          "2023-10-31T00:00:00.000+0000",
          "2023-08-16T00:00:00.000+0000",
          "2023-07-23T00:00:00.000+0000",
          "2023-07-01T00:00:00.000+0000",
          "2023-06-23T00:00:00.000+0000",
          "2023-05-28T00:00:00.000+0000",
          "2023-05-23T00:00:00.000+0000",
          "2023-05-13T00:00:00.000+0000",
          "2023-05-13T00:00:00.000+0000",
          "2023-05-05T00:00:00.000+0000",
          "2023-04-26T00:00:00.000+0000",
          "2023-04-18T00:00:00.000+0000",
          "2023-03-27T00:00:00.000+0000",
          "2023-02-11T00:00:00.000+0000",
          "2023-01-18T00:00:00.000+0000",
          "2023-01-09T00:00:00.000+0000",
          "2022-12-28T00:00:00.000+0000",
          "2022-12-22T00:00:00.000+0000",
          "2022-12-13T00:00:00.000+0000",
          "2022-12-02T00:00:00.000+0000",
          "2022-10-21T00:00:00.000+0000",
          "2022-09-19T00:00:00.000+0000",
          "2022-08-22T00:00:00.000+0000",
          "2022-06-25T00:00:00.000+0000",
          "2022-06-14T00:00:00.000+0000",
          "2022-05-01T00:00:00.000+0000",
          "2022-04-22T00:00:00.000+0000",
          "2022-03-10T00:00:00.000+0000",
          "2022-02-25T00:00:00.000+0000",
          "2022-02-02T00:00:00.000+0000",
          "2022-01-12T00:00:00.000+0000",
          "2021-12-21T00:00:00.000+0000",
          "2021-08-11T00:00:00.000+0000",
          "2021-04-13T00:00:00.000+0000",
          "2021-04-06T00:00:00.000+0000",
          "2021-04-04T00:00:00.000+0000",
          "2021-03-31T00:00:00.000+0000",
          "2021-02-03T00:00:00.000+0000",
          "2021-01-22T00:00:00.000+0000",
          "2020-11-30T00:00:00.000+0000",
          "2020-11-09T00:00:00.000+0000",
          "2020-10-25T00:00:00.000+0000",
          "2020-07-16T00:00:00.000+0000",
          "2020-07-08T00:00:00.000+0000",
          "2020-06-13T00:00:00.000+0000",
          "2020-05-13T00:00:00.000+0000",
          "2020-03-14T00:00:00.000+0000",
          "2020-02-14T00:00:00.000+0000",
          "2019-12-24T00:00:00.000+0000",
          "2019-12-23T00:00:00.000+0000",
          "2019-10-27T00:00:00.000+0000",
          "2019-10-08T00:00:00.000+0000",
          "2019-10-01T00:00:00.000+0000",
          "2019-09-02T00:00:00.000+0000",
          "2019-08-27T00:00:00.000+0000",
          "2019-08-22T00:00:00.000+0000",
          "2019-08-01T00:00:00.000+0000",
          "2019-06-15T00:00:00.000+0000",
          "2019-05-26T00:00:00.000+0000",
          "2019-05-24T00:00:00.000+0000",
          "2019-05-18T00:00:00.000+0000",
          "2019-04-17T00:00:00.000+0000",
          "2019-02-17T00:00:00.000+0000",
          "2019-02-01T00:00:00.000+0000",
          "2019-01-02T00:00:00.000+0000",
          "2018-11-06T00:00:00.000+0000",
          "2018-10-24T00:00:00.000+0000",
          "2018-10-16T00:00:00.000+0000",
          "2018-09-29T00:00:00.000+0000",
          "2018-03-26T00:00:00.000+0000",
          "2018-03-24T00:00:00.000+0000",
          "2018-02-23T00:00:00.000+0000",
          "2018-02-06T00:00:00.000+0000",
          "2018-02-02T00:00:00.000+0000",
          "2017-11-23T00:00:00.000+0000",
          "2017-10-25T00:00:00.000+0000",
          "2017-09-20T00:00:00.000+0000",
          "2017-09-06T00:00:00.000+0000",
          "2017-08-21T00:00:00.000+0000",
          "2017-08-18T00:00:00.000+0000",
          "2017-05-09T00:00:00.000+0000",
          "2017-03-02T00:00:00.000+0000",
          "2017-02-17T00:00:00.000+0000"
         ],
         "xaxis": "x",
         "y": [
          526338.91,
          663110.3,
          620115.11,
          655694.97,
          642216,
          674066.77,
          665345.55,
          664987.81,
          626697.78,
          622789.83,
          649923.13,
          607140.25,
          645885.19,
          611133.11,
          661851.98,
          629844.48,
          206234.69,
          243651.55,
          315014.98,
          317098.82,
          415435.9,
          241532.35,
          364387.73,
          258788.91,
          460437.64,
          483023.82,
          347290.47,
          498750.86,
          243628.05,
          391798.82,
          314246.34,
          222339.79,
          420280.9,
          353320.58,
          365067.02,
          413917.92,
          399178.57,
          264475.57,
          277925.07,
          414203.88,
          126232.56,
          381127.44,
          422991.58,
          378399.04,
          199938.06,
          291592.99,
          121038.5,
          164858.34,
          577134.24,
          358895.79,
          441368.59,
          237903.11,
          232766.61,
          110432.13,
          164098.62,
          200365.29,
          111660.49,
          92260.82,
          57808.65,
          78081.54,
          54001.57,
          66761.66,
          82005.72,
          79610.52,
          106660.13,
          47705.01,
          84856.27,
          87975.49,
          72149.23,
          35624.75,
          39493.41,
          31641.78,
          48264.29,
          61190.81,
          36286.26,
          80525.53,
          55411.93,
          85023.94,
          66880.82,
          40769.55,
          24796.49,
          55537.72,
          56591.69,
          70386.6,
          84039.99,
          42516.98,
          37144.35,
          45384.44,
          31976.14,
          28350.6,
          80672.52,
          112059.4,
          7155.12,
          47922.61,
          55925.04,
          125136.58,
          34401.96,
          112594.79,
          126155.54,
          90355.14
         ],
         "yaxis": "y"
        }
       ],
       "layout": {
        "legend": {
         "tracegroupgap": 0
        },
        "template": {
         "data": {
          "bar": [
           {
            "error_x": {
             "color": "#2a3f5f"
            },
            "error_y": {
             "color": "#2a3f5f"
            },
            "marker": {
             "line": {
              "color": "#E5ECF6",
              "width": 0.5
             },
             "pattern": {
              "fillmode": "overlay",
              "size": 10,
              "solidity": 0.2
             }
            },
            "type": "bar"
           }
          ],
          "barpolar": [
           {
            "marker": {
             "line": {
              "color": "#E5ECF6",
              "width": 0.5
             },
             "pattern": {
              "fillmode": "overlay",
              "size": 10,
              "solidity": 0.2
             }
            },
            "type": "barpolar"
           }
          ],
          "carpet": [
           {
            "aaxis": {
             "endlinecolor": "#2a3f5f",
             "gridcolor": "white",
             "linecolor": "white",
             "minorgridcolor": "white",
             "startlinecolor": "#2a3f5f"
            },
            "baxis": {
             "endlinecolor": "#2a3f5f",
             "gridcolor": "white",
             "linecolor": "white",
             "minorgridcolor": "white",
             "startlinecolor": "#2a3f5f"
            },
            "type": "carpet"
           }
          ],
          "choropleth": [
           {
            "colorbar": {
             "outlinewidth": 0,
             "ticks": ""
            },
            "type": "choropleth"
           }
          ],
          "contour": [
           {
            "colorbar": {
             "outlinewidth": 0,
             "ticks": ""
            },
            "colorscale": [
             [
              0,
              "#0d0887"
             ],
             [
              0.1111111111111111,
              "#46039f"
             ],
             [
              0.2222222222222222,
              "#7201a8"
             ],
             [
              0.3333333333333333,
              "#9c179e"
             ],
             [
              0.4444444444444444,
              "#bd3786"
             ],
             [
              0.5555555555555556,
              "#d8576b"
             ],
             [
              0.6666666666666666,
              "#ed7953"
             ],
             [
              0.7777777777777778,
              "#fb9f3a"
             ],
             [
              0.8888888888888888,
              "#fdca26"
             ],
             [
              1,
              "#f0f921"
             ]
            ],
            "type": "contour"
           }
          ],
          "contourcarpet": [
           {
            "colorbar": {
             "outlinewidth": 0,
             "ticks": ""
            },
            "type": "contourcarpet"
           }
          ],
          "heatmap": [
           {
            "colorbar": {
             "outlinewidth": 0,
             "ticks": ""
            },
            "colorscale": [
             [
              0,
              "#0d0887"
             ],
             [
              0.1111111111111111,
              "#46039f"
             ],
             [
              0.2222222222222222,
              "#7201a8"
             ],
             [
              0.3333333333333333,
              "#9c179e"
             ],
             [
              0.4444444444444444,
              "#bd3786"
             ],
             [
              0.5555555555555556,
              "#d8576b"
             ],
             [
              0.6666666666666666,
              "#ed7953"
             ],
             [
              0.7777777777777778,
              "#fb9f3a"
             ],
             [
              0.8888888888888888,
              "#fdca26"
             ],
             [
              1,
              "#f0f921"
             ]
            ],
            "type": "heatmap"
           }
          ],
          "heatmapgl": [
           {
            "colorbar": {
             "outlinewidth": 0,
             "ticks": ""
            },
            "colorscale": [
             [
              0,
              "#0d0887"
             ],
             [
              0.1111111111111111,
              "#46039f"
             ],
             [
              0.2222222222222222,
              "#7201a8"
             ],
             [
              0.3333333333333333,
              "#9c179e"
             ],
             [
              0.4444444444444444,
              "#bd3786"
             ],
             [
              0.5555555555555556,
              "#d8576b"
             ],
             [
              0.6666666666666666,
              "#ed7953"
             ],
             [
              0.7777777777777778,
              "#fb9f3a"
             ],
             [
              0.8888888888888888,
              "#fdca26"
             ],
             [
              1,
              "#f0f921"
             ]
            ],
            "type": "heatmapgl"
           }
          ],
          "histogram": [
           {
            "marker": {
             "pattern": {
              "fillmode": "overlay",
              "size": 10,
              "solidity": 0.2
             }
            },
            "type": "histogram"
           }
          ],
          "histogram2d": [
           {
            "colorbar": {
             "outlinewidth": 0,
             "ticks": ""
            },
            "colorscale": [
             [
              0,
              "#0d0887"
             ],
             [
              0.1111111111111111,
              "#46039f"
             ],
             [
              0.2222222222222222,
              "#7201a8"
             ],
             [
              0.3333333333333333,
              "#9c179e"
             ],
             [
              0.4444444444444444,
              "#bd3786"
             ],
             [
              0.5555555555555556,
              "#d8576b"
             ],
             [
              0.6666666666666666,
              "#ed7953"
             ],
             [
              0.7777777777777778,
              "#fb9f3a"
             ],
             [
              0.8888888888888888,
              "#fdca26"
             ],
             [
              1,
              "#f0f921"
             ]
            ],
            "type": "histogram2d"
           }
          ],
          "histogram2dcontour": [
           {
            "colorbar": {
             "outlinewidth": 0,
             "ticks": ""
            },
            "colorscale": [
             [
              0,
              "#0d0887"
             ],
             [
              0.1111111111111111,
              "#46039f"
             ],
             [
              0.2222222222222222,
              "#7201a8"
             ],
             [
              0.3333333333333333,
              "#9c179e"
             ],
             [
              0.4444444444444444,
              "#bd3786"
             ],
             [
              0.5555555555555556,
              "#d8576b"
             ],
             [
              0.6666666666666666,
              "#ed7953"
             ],
             [
              0.7777777777777778,
              "#fb9f3a"
             ],
             [
              0.8888888888888888,
              "#fdca26"
             ],
             [
              1,
              "#f0f921"
             ]
            ],
            "type": "histogram2dcontour"
           }
          ],
          "mesh3d": [
           {
            "colorbar": {
             "outlinewidth": 0,
             "ticks": ""
            },
            "type": "mesh3d"
           }
          ],
          "parcoords": [
           {
            "line": {
             "colorbar": {
              "outlinewidth": 0,
              "ticks": ""
             }
            },
            "type": "parcoords"
           }
          ],
          "pie": [
           {
            "automargin": true,
            "type": "pie"
           }
          ],
          "scatter": [
           {
            "fillpattern": {
             "fillmode": "overlay",
             "size": 10,
             "solidity": 0.2
            },
            "type": "scatter"
           }
          ],
          "scatter3d": [
           {
            "line": {
             "colorbar": {
              "outlinewidth": 0,
              "ticks": ""
             }
            },
            "marker": {
             "colorbar": {
              "outlinewidth": 0,
              "ticks": ""
             }
            },
            "type": "scatter3d"
           }
          ],
          "scattercarpet": [
           {
            "marker": {
             "colorbar": {
              "outlinewidth": 0,
              "ticks": ""
             }
            },
            "type": "scattercarpet"
           }
          ],
          "scattergeo": [
           {
            "marker": {
             "colorbar": {
              "outlinewidth": 0,
              "ticks": ""
             }
            },
            "type": "scattergeo"
           }
          ],
          "scattergl": [
           {
            "marker": {
             "colorbar": {
              "outlinewidth": 0,
              "ticks": ""
             }
            },
            "type": "scattergl"
           }
          ],
          "scattermapbox": [
           {
            "marker": {
             "colorbar": {
              "outlinewidth": 0,
              "ticks": ""
             }
            },
            "type": "scattermapbox"
           }
          ],
          "scatterpolar": [
           {
            "marker": {
             "colorbar": {
              "outlinewidth": 0,
              "ticks": ""
             }
            },
            "type": "scatterpolar"
           }
          ],
          "scatterpolargl": [
           {
            "marker": {
             "colorbar": {
              "outlinewidth": 0,
              "ticks": ""
             }
            },
            "type": "scatterpolargl"
           }
          ],
          "scatterternary": [
           {
            "marker": {
             "colorbar": {
              "outlinewidth": 0,
              "ticks": ""
             }
            },
            "type": "scatterternary"
           }
          ],
          "surface": [
           {
            "colorbar": {
             "outlinewidth": 0,
             "ticks": ""
            },
            "colorscale": [
             [
              0,
              "#0d0887"
             ],
             [
              0.1111111111111111,
              "#46039f"
             ],
             [
              0.2222222222222222,
              "#7201a8"
             ],
             [
              0.3333333333333333,
              "#9c179e"
             ],
             [
              0.4444444444444444,
              "#bd3786"
             ],
             [
              0.5555555555555556,
              "#d8576b"
             ],
             [
              0.6666666666666666,
              "#ed7953"
             ],
             [
              0.7777777777777778,
              "#fb9f3a"
             ],
             [
              0.8888888888888888,
              "#fdca26"
             ],
             [
              1,
              "#f0f921"
             ]
            ],
            "type": "surface"
           }
          ],
          "table": [
           {
            "cells": {
             "fill": {
              "color": "#EBF0F8"
             },
             "line": {
              "color": "white"
             }
            },
            "header": {
             "fill": {
              "color": "#C8D4E3"
             },
             "line": {
              "color": "white"
             }
            },
            "type": "table"
           }
          ]
         },
         "layout": {
          "annotationdefaults": {
           "arrowcolor": "#2a3f5f",
           "arrowhead": 0,
           "arrowwidth": 1
          },
          "autotypenumbers": "strict",
          "coloraxis": {
           "colorbar": {
            "outlinewidth": 0,
            "ticks": ""
           }
          },
          "colorscale": {
           "diverging": [
            [
             0,
             "#8e0152"
            ],
            [
             0.1,
             "#c51b7d"
            ],
            [
             0.2,
             "#de77ae"
            ],
            [
             0.3,
             "#f1b6da"
            ],
            [
             0.4,
             "#fde0ef"
            ],
            [
             0.5,
             "#f7f7f7"
            ],
            [
             0.6,
             "#e6f5d0"
            ],
            [
             0.7,
             "#b8e186"
            ],
            [
             0.8,
             "#7fbc41"
            ],
            [
             0.9,
             "#4d9221"
            ],
            [
             1,
             "#276419"
            ]
           ],
           "sequential": [
            [
             0,
             "#0d0887"
            ],
            [
             0.1111111111111111,
             "#46039f"
            ],
            [
             0.2222222222222222,
             "#7201a8"
            ],
            [
             0.3333333333333333,
             "#9c179e"
            ],
            [
             0.4444444444444444,
             "#bd3786"
            ],
            [
             0.5555555555555556,
             "#d8576b"
            ],
            [
             0.6666666666666666,
             "#ed7953"
            ],
            [
             0.7777777777777778,
             "#fb9f3a"
            ],
            [
             0.8888888888888888,
             "#fdca26"
            ],
            [
             1,
             "#f0f921"
            ]
           ],
           "sequentialminus": [
            [
             0,
             "#0d0887"
            ],
            [
             0.1111111111111111,
             "#46039f"
            ],
            [
             0.2222222222222222,
             "#7201a8"
            ],
            [
             0.3333333333333333,
             "#9c179e"
            ],
            [
             0.4444444444444444,
             "#bd3786"
            ],
            [
             0.5555555555555556,
             "#d8576b"
            ],
            [
             0.6666666666666666,
             "#ed7953"
            ],
            [
             0.7777777777777778,
             "#fb9f3a"
            ],
            [
             0.8888888888888888,
             "#fdca26"
            ],
            [
             1,
             "#f0f921"
            ]
           ]
          },
          "colorway": [
           "#636efa",
           "#EF553B",
           "#00cc96",
           "#ab63fa",
           "#FFA15A",
           "#19d3f3",
           "#FF6692",
           "#B6E880",
           "#FF97FF",
           "#FECB52"
          ],
          "font": {
           "color": "#2a3f5f"
          },
          "geo": {
           "bgcolor": "white",
           "lakecolor": "white",
           "landcolor": "#E5ECF6",
           "showlakes": true,
           "showland": true,
           "subunitcolor": "white"
          },
          "hoverlabel": {
           "align": "left"
          },
          "hovermode": "closest",
          "mapbox": {
           "style": "light"
          },
          "paper_bgcolor": "white",
          "plot_bgcolor": "#E5ECF6",
          "polar": {
           "angularaxis": {
            "gridcolor": "white",
            "linecolor": "white",
            "ticks": ""
           },
           "bgcolor": "#E5ECF6",
           "radialaxis": {
            "gridcolor": "white",
            "linecolor": "white",
            "ticks": ""
           }
          },
          "scene": {
           "xaxis": {
            "backgroundcolor": "#E5ECF6",
            "gridcolor": "white",
            "gridwidth": 2,
            "linecolor": "white",
            "showbackground": true,
            "ticks": "",
            "zerolinecolor": "white"
           },
           "yaxis": {
            "backgroundcolor": "#E5ECF6",
            "gridcolor": "white",
            "gridwidth": 2,
            "linecolor": "white",
            "showbackground": true,
            "ticks": "",
            "zerolinecolor": "white"
           },
           "zaxis": {
            "backgroundcolor": "#E5ECF6",
            "gridcolor": "white",
            "gridwidth": 2,
            "linecolor": "white",
            "showbackground": true,
            "ticks": "",
            "zerolinecolor": "white"
           }
          },
          "shapedefaults": {
           "line": {
            "color": "#2a3f5f"
           }
          },
          "ternary": {
           "aaxis": {
            "gridcolor": "white",
            "linecolor": "white",
            "ticks": ""
           },
           "baxis": {
            "gridcolor": "white",
            "linecolor": "white",
            "ticks": ""
           },
           "bgcolor": "#E5ECF6",
           "caxis": {
            "gridcolor": "white",
            "linecolor": "white",
            "ticks": ""
           }
          },
          "title": {
           "x": 0.05
          },
          "xaxis": {
           "automargin": true,
           "gridcolor": "white",
           "linecolor": "white",
           "ticks": "",
           "title": {
            "standoff": 15
           },
           "zerolinecolor": "white",
           "zerolinewidth": 2
          },
          "yaxis": {
           "automargin": true,
           "gridcolor": "white",
           "linecolor": "white",
           "ticks": "",
           "title": {
            "standoff": 15
           },
           "zerolinecolor": "white",
           "zerolinewidth": 2
          }
         }
        },
        "title": {
         "text": "Evolução do preço do BTC ao longo do tempo"
        },
        "xaxis": {
         "anchor": "y",
         "domain": [
          0,
          1
         ],
         "title": {
          "text": "Data da compra"
         }
        },
        "yaxis": {
         "anchor": "x",
         "domain": [
          0,
          1
         ],
         "title": {
          "text": "Preço BTC (USD)"
         }
        }
       }
      }
     },
     "metadata": {},
     "output_type": "display_data"
    }
   ],
   "source": [
    "# Evolução do preço do bitcoin ao longo do tempo\n",
    "fig_line = px.line(df, x=\"data_compra\", y=\"preco_btc\",\n",
    "                   title=\"Evolução do preço do BTC ao longo do tempo\",\n",
    "                   labels={\"data_compra\": \"Data da compra\", \"preco_btc\": \"Preço BTC (USD)\"},\n",
    "                   markers=True\n",
    "                   )\n",
    "fig_line.show()"
   ]
  }
 ],
 "metadata": {
  "application/vnd.databricks.v1+notebook": {
   "computePreferences": null,
   "dashboards": [],
   "environmentMetadata": {
    "base_environment": "",
    "client": "1"
   },
   "language": "python",
   "notebookMetadata": {
    "mostRecentlyExecutedCommandWithImplicitDF": {
     "commandId": -1,
     "dataframes": [
      "_sqldf"
     ]
    },
    "pythonIndentUnit": 4
   },
   "notebookName": "exemplo_02",
   "widgets": {}
  },
  "kernelspec": {
   "display_name": "base",
   "language": "python",
   "name": "python3"
  },
  "language_info": {
   "codemirror_mode": {
    "name": "ipython",
    "version": 3
   },
   "file_extension": ".py",
   "mimetype": "text/x-python",
   "name": "python",
   "nbconvert_exporter": "python",
   "pygments_lexer": "ipython3",
   "version": "3.12.4"
  }
 },
 "nbformat": 4,
 "nbformat_minor": 0
}
